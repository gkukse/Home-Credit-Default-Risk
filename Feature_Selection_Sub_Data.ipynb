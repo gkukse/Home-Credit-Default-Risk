{
 "cells": [
  {
   "cell_type": "code",
   "execution_count": 35,
   "metadata": {},
   "outputs": [
    {
     "name": "stdout",
     "output_type": "stream",
     "text": [
      "The autoreload extension is already loaded. To reload it, use:\n",
      "  %reload_ext autoreload\n"
     ]
    }
   ],
   "source": [
    "import numpy as np\n",
    "import pandas as pd\n",
    "import seaborn as sns\n",
    "import matplotlib.pyplot as plt\n",
    "import missingno as msno\n",
    "\n",
    "from sklearn.feature_selection import mutual_info_classif\n",
    "\n",
    "pd.plotting.register_matplotlib_converters()\n",
    "%matplotlib inline\n",
    "\n",
    "import duckdb\n",
    "from sklearn.pipeline import Pipeline\n",
    "from sklearn.compose import ColumnTransformer\n",
    "from sklearn.preprocessing import OneHotEncoder, StandardScaler\n",
    "from sklearn.metrics import precision_score, roc_auc_score, recall_score, accuracy_score\n",
    "\n",
    "from sklearn.model_selection import train_test_split\n",
    "from lightgbm import LGBMClassifier\n",
    "import featuretools as ft\n",
    "%load_ext autoreload\n",
    "%autoreload 2\n",
    "from help_tool import help_tool, help_visuals, help_stats\n",
    "import polars as pl\n",
    "from sklearn.preprocessing import StandardScaler\n",
    "from sklearn.cluster import KMeans\n",
    "from sklearn.metrics import silhouette_score\n",
    "\n",
    "pd.set_option('future.no_silent_downcasting', True)\n",
    "\n",
    "# Setting graph parameters\n",
    "sns.set_theme(style='whitegrid')\n",
    "sns.set_palette('husl')"
   ]
  },
  {
   "cell_type": "code",
   "execution_count": 4,
   "metadata": {},
   "outputs": [],
   "source": [
    "application_train = help_tool.csv_download(r'Archive\\home-credit-default-risk\\application_train.csv')[['SK_ID_CURR', 'TARGET']]"
   ]
  },
  {
   "cell_type": "markdown",
   "metadata": {},
   "source": [
    "# Pos_Cash Balance"
   ]
  },
  {
   "cell_type": "code",
   "execution_count": 5,
   "metadata": {},
   "outputs": [],
   "source": [
    "pos_cash = help_tool.csv_download(r'Archive\\home-credit-default-risk\\POS_CASH_balance.csv')\n",
    "#help_tool.first_look(pos_cash)"
   ]
  },
  {
   "cell_type": "markdown",
   "metadata": {},
   "source": [
    "## Null values"
   ]
  },
  {
   "cell_type": "markdown",
   "metadata": {},
   "source": [
    "When CNT_INSTALMENT is misisng, SK_DPD and SK_DPD_DEF have values 0"
   ]
  },
  {
   "cell_type": "code",
   "execution_count": 6,
   "metadata": {},
   "outputs": [
    {
     "data": {
      "text/plain": [
       "SK_DPD  SK_DPD_DEF\n",
       "0       0             25974\n",
       "Name: count, dtype: int64"
      ]
     },
     "execution_count": 6,
     "metadata": {},
     "output_type": "execute_result"
    }
   ],
   "source": [
    "pos_cash[pos_cash['CNT_INSTALMENT'].isna() & pos_cash['CNT_INSTALMENT_FUTURE'].isna()][['SK_DPD', 'SK_DPD_DEF']].value_counts()"
   ]
  },
  {
   "cell_type": "markdown",
   "metadata": {},
   "source": [
    "Null values will be dropped"
   ]
  },
  {
   "cell_type": "code",
   "execution_count": 7,
   "metadata": {},
   "outputs": [],
   "source": [
    "pos_cash = pos_cash[pos_cash['CNT_INSTALMENT'].notna() & pos_cash['CNT_INSTALMENT_FUTURE'].notna()]"
   ]
  },
  {
   "cell_type": "markdown",
   "metadata": {},
   "source": [
    "## EDA\n",
    "### Numerical Features"
   ]
  },
  {
   "cell_type": "code",
   "execution_count": 8,
   "metadata": {},
   "outputs": [],
   "source": [
    "#help_visuals.distribution_check(pos_cash.drop(columns=['SK_ID_PREV', 'SK_ID_CURR']).sample(100000, random_state=42))"
   ]
  },
  {
   "cell_type": "markdown",
   "metadata": {},
   "source": [
    "### Instalments\n",
    "CNT_INSTALMENT_FUTURE and CNT_INSTALMENT_FUTURE have a dependency between each other, which is described by NAME_CONTRACT_STATUS"
   ]
  },
  {
   "cell_type": "code",
   "execution_count": 9,
   "metadata": {},
   "outputs": [],
   "source": [
    "# g = sns.FacetGrid(pos_cash.sample(100000, random_state=42), col=\"NAME_CONTRACT_STATUS\", col_wrap=4)\n",
    "# g.map(sns.scatterplot, \"CNT_INSTALMENT\", \"CNT_INSTALMENT_FUTURE\")\n",
    "# g.set_titles(col_template=\"{col_name}\", row_template=\"{row_name}\")\n",
    "\n",
    "# plt.show()"
   ]
  },
  {
   "cell_type": "markdown",
   "metadata": {},
   "source": [
    "Ratio between SK_DPD and SK_DPD_DEF is not a constant when Status is Demand or Amortized debt. Which could sugest Ratio is depicting bad customers."
   ]
  },
  {
   "cell_type": "code",
   "execution_count": 10,
   "metadata": {},
   "outputs": [],
   "source": [
    "# g = sns.FacetGrid(pos_cash.sample(100000, random_state=42), col=\"NAME_CONTRACT_STATUS\", col_wrap=4)\n",
    "# g.map(sns.scatterplot, \"SK_DPD\", \"SK_DPD_DEF\")\n",
    "# g.set_titles(col_template=\"{col_name}\", row_template=\"{row_name}\")\n",
    "\n",
    "# plt.show()"
   ]
  },
  {
   "cell_type": "markdown",
   "metadata": {},
   "source": [
    "### Categorical Features"
   ]
  },
  {
   "cell_type": "markdown",
   "metadata": {},
   "source": [
    "NAME_CONTRACT_STATUS ca be separated into 2 columns for card activity and risk profile"
   ]
  },
  {
   "cell_type": "code",
   "execution_count": 11,
   "metadata": {},
   "outputs": [],
   "source": [
    "# Apply the functions to create new columns\n",
    "pos_cash['CARD_ACTIVITY'] = pos_cash['NAME_CONTRACT_STATUS'].apply(help_tool.categorize_card_activity)\n",
    "pos_cash['RISK_PROFILE'] = pos_cash['NAME_CONTRACT_STATUS'].apply(help_tool.categorize_risk_profile)\n",
    "\n",
    "pos_cash.drop(columns=['NAME_CONTRACT_STATUS'], inplace=True)"
   ]
  },
  {
   "cell_type": "code",
   "execution_count": 12,
   "metadata": {},
   "outputs": [
    {
     "data": {
      "text/html": [
       "<div>\n",
       "<style scoped>\n",
       "    .dataframe tbody tr th:only-of-type {\n",
       "        vertical-align: middle;\n",
       "    }\n",
       "\n",
       "    .dataframe tbody tr th {\n",
       "        vertical-align: top;\n",
       "    }\n",
       "\n",
       "    .dataframe thead th {\n",
       "        text-align: right;\n",
       "    }\n",
       "</style>\n",
       "<table border=\"1\" class=\"dataframe\">\n",
       "  <thead>\n",
       "    <tr style=\"text-align: right;\">\n",
       "      <th></th>\n",
       "      <th>SK_ID_PREV</th>\n",
       "      <th>SK_ID_CURR</th>\n",
       "      <th>MONTHS_BALANCE</th>\n",
       "      <th>CNT_INSTALMENT</th>\n",
       "      <th>CNT_INSTALMENT_FUTURE</th>\n",
       "      <th>SK_DPD</th>\n",
       "      <th>SK_DPD_DEF</th>\n",
       "      <th>CARD_ACTIVITY</th>\n",
       "      <th>RISK_PROFILE</th>\n",
       "    </tr>\n",
       "  </thead>\n",
       "  <tbody>\n",
       "    <tr>\n",
       "      <th>0</th>\n",
       "      <td>1803195</td>\n",
       "      <td>182943</td>\n",
       "      <td>-31</td>\n",
       "      <td>48.0</td>\n",
       "      <td>45.0</td>\n",
       "      <td>0</td>\n",
       "      <td>0</td>\n",
       "      <td>1</td>\n",
       "      <td>1</td>\n",
       "    </tr>\n",
       "    <tr>\n",
       "      <th>1</th>\n",
       "      <td>1715348</td>\n",
       "      <td>367990</td>\n",
       "      <td>-33</td>\n",
       "      <td>36.0</td>\n",
       "      <td>35.0</td>\n",
       "      <td>0</td>\n",
       "      <td>0</td>\n",
       "      <td>1</td>\n",
       "      <td>1</td>\n",
       "    </tr>\n",
       "    <tr>\n",
       "      <th>2</th>\n",
       "      <td>1784872</td>\n",
       "      <td>397406</td>\n",
       "      <td>-32</td>\n",
       "      <td>12.0</td>\n",
       "      <td>9.0</td>\n",
       "      <td>0</td>\n",
       "      <td>0</td>\n",
       "      <td>1</td>\n",
       "      <td>1</td>\n",
       "    </tr>\n",
       "    <tr>\n",
       "      <th>3</th>\n",
       "      <td>1903291</td>\n",
       "      <td>269225</td>\n",
       "      <td>-35</td>\n",
       "      <td>48.0</td>\n",
       "      <td>42.0</td>\n",
       "      <td>0</td>\n",
       "      <td>0</td>\n",
       "      <td>1</td>\n",
       "      <td>1</td>\n",
       "    </tr>\n",
       "    <tr>\n",
       "      <th>4</th>\n",
       "      <td>2341044</td>\n",
       "      <td>334279</td>\n",
       "      <td>-35</td>\n",
       "      <td>36.0</td>\n",
       "      <td>35.0</td>\n",
       "      <td>0</td>\n",
       "      <td>0</td>\n",
       "      <td>1</td>\n",
       "      <td>1</td>\n",
       "    </tr>\n",
       "  </tbody>\n",
       "</table>\n",
       "</div>"
      ],
      "text/plain": [
       "   SK_ID_PREV  SK_ID_CURR  MONTHS_BALANCE  CNT_INSTALMENT  \\\n",
       "0     1803195      182943             -31            48.0   \n",
       "1     1715348      367990             -33            36.0   \n",
       "2     1784872      397406             -32            12.0   \n",
       "3     1903291      269225             -35            48.0   \n",
       "4     2341044      334279             -35            36.0   \n",
       "\n",
       "   CNT_INSTALMENT_FUTURE  SK_DPD  SK_DPD_DEF  CARD_ACTIVITY  RISK_PROFILE  \n",
       "0                   45.0       0           0              1             1  \n",
       "1                   35.0       0           0              1             1  \n",
       "2                    9.0       0           0              1             1  \n",
       "3                   42.0       0           0              1             1  \n",
       "4                   35.0       0           0              1             1  "
      ]
     },
     "execution_count": 12,
     "metadata": {},
     "output_type": "execute_result"
    }
   ],
   "source": [
    "pos_cash.head()"
   ]
  },
  {
   "cell_type": "markdown",
   "metadata": {},
   "source": [
    "## Feature engineering"
   ]
  },
  {
   "cell_type": "code",
   "execution_count": 13,
   "metadata": {},
   "outputs": [],
   "source": [
    "pos_cash[['RATIO_Term_Payed_Left', 'RATIO_DPD']] = duckdb.query(\"\"\"\n",
    "             SELECT \n",
    "             (CNT_INSTALMENT / CNT_INSTALMENT_FUTURE) AS RATIO_Term_Payed_Left,\n",
    "             (SK_DPD / SK_DPD_DEF) AS RATIO_DPD\n",
    "             FROM pos_cash\n",
    "\"\"\").to_df()"
   ]
  },
  {
   "cell_type": "code",
   "execution_count": 14,
   "metadata": {},
   "outputs": [],
   "source": [
    "# pos_cash['MONTHS_BALANCE'] = pos_cash['MONTHS_BALANCE'] + 96"
   ]
  },
  {
   "cell_type": "markdown",
   "metadata": {},
   "source": [
    "## Previous Application and POS_CASH"
   ]
  },
  {
   "cell_type": "code",
   "execution_count": 15,
   "metadata": {},
   "outputs": [],
   "source": [
    "pos_cash_simplified = pos_cash[['SK_ID_PREV', 'SK_ID_CURR']].drop_duplicates().reset_index(drop=True)"
   ]
  },
  {
   "cell_type": "code",
   "execution_count": 16,
   "metadata": {},
   "outputs": [
    {
     "name": "stderr",
     "output_type": "stream",
     "text": [
      "c:\\Users\\Gintare\\anaconda3\\envs\\model_env\\Lib\\site-packages\\featuretools\\computational_backends\\feature_set_calculator.py:785: FutureWarning: The provided callable <function std at 0x000002F9718E8CC0> is currently using SeriesGroupBy.std. In a future version of pandas, the provided callable will be used directly. To keep current behavior pass the string \"std\" instead.\n",
      "  ).agg(to_agg)\n",
      "c:\\Users\\Gintare\\anaconda3\\envs\\model_env\\Lib\\site-packages\\featuretools\\computational_backends\\feature_set_calculator.py:785: FutureWarning: The provided callable <function max at 0x000002F9718E8180> is currently using SeriesGroupBy.max. In a future version of pandas, the provided callable will be used directly. To keep current behavior pass the string \"max\" instead.\n",
      "  ).agg(to_agg)\n",
      "c:\\Users\\Gintare\\anaconda3\\envs\\model_env\\Lib\\site-packages\\featuretools\\computational_backends\\feature_set_calculator.py:785: FutureWarning: The provided callable <function min at 0x000002F9718E82C0> is currently using SeriesGroupBy.min. In a future version of pandas, the provided callable will be used directly. To keep current behavior pass the string \"min\" instead.\n",
      "  ).agg(to_agg)\n",
      "c:\\Users\\Gintare\\anaconda3\\envs\\model_env\\Lib\\site-packages\\featuretools\\computational_backends\\feature_set_calculator.py:785: FutureWarning: The provided callable <function sum at 0x000002F9718CBA60> is currently using SeriesGroupBy.sum. In a future version of pandas, the provided callable will be used directly. To keep current behavior pass the string \"sum\" instead.\n",
      "  ).agg(to_agg)\n",
      "c:\\Users\\Gintare\\anaconda3\\envs\\model_env\\Lib\\site-packages\\featuretools\\computational_backends\\feature_set_calculator.py:785: FutureWarning: The provided callable <function mean at 0x000002F9718E8B80> is currently using SeriesGroupBy.mean. In a future version of pandas, the provided callable will be used directly. To keep current behavior pass the string \"mean\" instead.\n",
      "  ).agg(to_agg)\n"
     ]
    },
    {
     "data": {
      "text/plain": [
       "(935435, 43)"
      ]
     },
     "execution_count": 16,
     "metadata": {},
     "output_type": "execute_result"
    }
   ],
   "source": [
    "es = ft.EntitySet(id='pos_cash_data')\n",
    "\n",
    "es = es.add_dataframe(dataframe_name='pos_cash_simplified',\n",
    "                      dataframe=pos_cash_simplified,\n",
    "                      index='SK_ID_PREV')\n",
    "\n",
    "es = es.add_dataframe(dataframe_name='pos_cash',\n",
    "                      dataframe=pos_cash.drop(columns=['MONTHS_BALANCE', 'SK_ID_CURR']).reset_index(drop=True),\n",
    "                      make_index=True,\n",
    "                      index='index')\n",
    "\n",
    "es = es.add_relationship(parent_dataframe_name='pos_cash_simplified',\n",
    "                         parent_column_name='SK_ID_PREV',\n",
    "                         child_dataframe_name='pos_cash',\n",
    "                         child_column_name='SK_ID_PREV')\n",
    "\n",
    "pos_cash_feature_matrix, feature_defs = ft.dfs(entityset=es,\n",
    "                                      target_dataframe_name='pos_cash_simplified',\n",
    "                                      agg_primitives=['mean', 'sum', 'count', 'std', 'max', 'min']\n",
    "                                      )\n",
    "\n",
    "\n",
    "pos_cash_feature_matrix = pos_cash_feature_matrix.reset_index()\n",
    "pos_cash_feature_matrix.shape"
   ]
  },
  {
   "cell_type": "code",
   "execution_count": 17,
   "metadata": {},
   "outputs": [],
   "source": [
    "# es = ft.EntitySet(id='pos_cash_data')\n",
    "\n",
    "# es = es.add_dataframe(dataframe_name='previous_application',\n",
    "#                       dataframe=previous_application,\n",
    "#                       index='SK_ID_PREV')\n",
    "\n",
    "# es = es.add_dataframe(dataframe_name='pos_cash',\n",
    "#                       dataframe=pos_cash.drop(columns=['MONTHS_BALANCE', 'SK_ID_CURR', 'NAME_CONTRACT_STATUS']),\n",
    "#                       make_index=True,\n",
    "#                       index='index')\n",
    "\n",
    "# es = es.add_relationship(parent_dataframe_name='previous_application',\n",
    "#                          parent_column_name='SK_ID_PREV',\n",
    "#                          child_dataframe_name='pos_cash',\n",
    "#                          child_column_name='SK_ID_PREV')\n",
    "\n",
    "# pos_cash_feature_matrix, feature_defs = ft.dfs(entityset=es,\n",
    "#                                       target_dataframe_name='previous_application',\n",
    "#                                       agg_primitives=['mean', 'sum', 'count', 'std', 'max', 'min']\n",
    "#                                       )\n",
    "\n",
    "\n",
    "# pos_cash_feature_matrix = pos_cash_feature_matrix.reset_index()\n",
    "# pos_cash_feature_matrix.shape"
   ]
  },
  {
   "cell_type": "code",
   "execution_count": 18,
   "metadata": {},
   "outputs": [
    {
     "data": {
      "application/vnd.jupyter.widget-view+json": {
       "model_id": "0b3c4a7c311043db9d75234000307632",
       "version_major": 2,
       "version_minor": 0
      },
      "text/plain": [
       "FloatProgress(value=0.0, layout=Layout(width='auto'), style=ProgressStyle(bar_color='black'))"
      ]
     },
     "metadata": {},
     "output_type": "display_data"
    }
   ],
   "source": [
    "pos_cash_feature_matrix = duckdb.query(\"\"\"  \n",
    "  SELECT A.*, B.Duration\n",
    "  FROM pos_cash_feature_matrix A \n",
    "  LEFT JOIN (\n",
    "    SELECT SK_ID_PREV, MAX(MONTHS_BALANCE) - MIN(MONTHS_BALANCE) AS Duration\n",
    "    FROM pos_cash\n",
    "    GROUP BY SK_ID_PREV\n",
    "    ) B ON A.SK_ID_PREV = B.SK_ID_PREV\n",
    "  \"\"\").to_df()"
   ]
  },
  {
   "cell_type": "markdown",
   "metadata": {},
   "source": [
    "No features with Zero vairiance"
   ]
  },
  {
   "cell_type": "code",
   "execution_count": 19,
   "metadata": {},
   "outputs": [],
   "source": [
    "pos_cash_feature_matrix.drop(\n",
    "    columns= help_tool.zero_variance_features(pos_cash_feature_matrix), \n",
    "    inplace = True\n",
    "    )"
   ]
  },
  {
   "cell_type": "code",
   "execution_count": 20,
   "metadata": {},
   "outputs": [
    {
     "data": {
      "text/html": [
       "<div>\n",
       "<style scoped>\n",
       "    .dataframe tbody tr th:only-of-type {\n",
       "        vertical-align: middle;\n",
       "    }\n",
       "\n",
       "    .dataframe tbody tr th {\n",
       "        vertical-align: top;\n",
       "    }\n",
       "\n",
       "    .dataframe thead th {\n",
       "        text-align: right;\n",
       "    }\n",
       "</style>\n",
       "<table border=\"1\" class=\"dataframe\">\n",
       "  <thead>\n",
       "    <tr style=\"text-align: right;\">\n",
       "      <th></th>\n",
       "      <th>SK_ID_PREV</th>\n",
       "      <th>SK_ID_CURR</th>\n",
       "      <th>COUNT(pos_cash)</th>\n",
       "      <th>MAX(pos_cash.CARD_ACTIVITY)</th>\n",
       "      <th>MAX(pos_cash.CNT_INSTALMENT)</th>\n",
       "      <th>MAX(pos_cash.CNT_INSTALMENT_FUTURE)</th>\n",
       "      <th>MAX(pos_cash.RATIO_DPD)</th>\n",
       "      <th>MAX(pos_cash.RATIO_Term_Payed_Left)</th>\n",
       "      <th>MAX(pos_cash.RISK_PROFILE)</th>\n",
       "      <th>MAX(pos_cash.SK_DPD)</th>\n",
       "      <th>...</th>\n",
       "      <th>STD(pos_cash.SK_DPD_DEF)</th>\n",
       "      <th>SUM(pos_cash.CARD_ACTIVITY)</th>\n",
       "      <th>SUM(pos_cash.CNT_INSTALMENT)</th>\n",
       "      <th>SUM(pos_cash.CNT_INSTALMENT_FUTURE)</th>\n",
       "      <th>SUM(pos_cash.RATIO_DPD)</th>\n",
       "      <th>SUM(pos_cash.RATIO_Term_Payed_Left)</th>\n",
       "      <th>SUM(pos_cash.RISK_PROFILE)</th>\n",
       "      <th>SUM(pos_cash.SK_DPD)</th>\n",
       "      <th>SUM(pos_cash.SK_DPD_DEF)</th>\n",
       "      <th>Duration</th>\n",
       "    </tr>\n",
       "  </thead>\n",
       "  <tbody>\n",
       "    <tr>\n",
       "      <th>0</th>\n",
       "      <td>2119427</td>\n",
       "      <td>331456</td>\n",
       "      <td>6</td>\n",
       "      <td>2.0</td>\n",
       "      <td>6.0</td>\n",
       "      <td>6.0</td>\n",
       "      <td>NaN</td>\n",
       "      <td>1.666667</td>\n",
       "      <td>1.0</td>\n",
       "      <td>0.0</td>\n",
       "      <td>...</td>\n",
       "      <td>0.000000</td>\n",
       "      <td>7.0</td>\n",
       "      <td>35.0</td>\n",
       "      <td>20.0</td>\n",
       "      <td>0.0</td>\n",
       "      <td>8.450000</td>\n",
       "      <td>6.0</td>\n",
       "      <td>0.0</td>\n",
       "      <td>0.0</td>\n",
       "      <td>5</td>\n",
       "    </tr>\n",
       "    <tr>\n",
       "      <th>1</th>\n",
       "      <td>1055322</td>\n",
       "      <td>204968</td>\n",
       "      <td>13</td>\n",
       "      <td>2.0</td>\n",
       "      <td>12.0</td>\n",
       "      <td>12.0</td>\n",
       "      <td>NaN</td>\n",
       "      <td>10.000000</td>\n",
       "      <td>1.0</td>\n",
       "      <td>6.0</td>\n",
       "      <td>...</td>\n",
       "      <td>1.664101</td>\n",
       "      <td>14.0</td>\n",
       "      <td>156.0</td>\n",
       "      <td>78.0</td>\n",
       "      <td>0.0</td>\n",
       "      <td>31.782660</td>\n",
       "      <td>13.0</td>\n",
       "      <td>6.0</td>\n",
       "      <td>6.0</td>\n",
       "      <td>12</td>\n",
       "    </tr>\n",
       "    <tr>\n",
       "      <th>2</th>\n",
       "      <td>1768785</td>\n",
       "      <td>455527</td>\n",
       "      <td>13</td>\n",
       "      <td>2.0</td>\n",
       "      <td>12.0</td>\n",
       "      <td>12.0</td>\n",
       "      <td>1.0</td>\n",
       "      <td>12.000000</td>\n",
       "      <td>1.0</td>\n",
       "      <td>0.0</td>\n",
       "      <td>...</td>\n",
       "      <td>0.000000</td>\n",
       "      <td>14.0</td>\n",
       "      <td>156.0</td>\n",
       "      <td>78.0</td>\n",
       "      <td>1.0</td>\n",
       "      <td>27.444538</td>\n",
       "      <td>13.0</td>\n",
       "      <td>0.0</td>\n",
       "      <td>0.0</td>\n",
       "      <td>12</td>\n",
       "    </tr>\n",
       "    <tr>\n",
       "      <th>3</th>\n",
       "      <td>1783964</td>\n",
       "      <td>238215</td>\n",
       "      <td>8</td>\n",
       "      <td>2.0</td>\n",
       "      <td>6.0</td>\n",
       "      <td>6.0</td>\n",
       "      <td>NaN</td>\n",
       "      <td>6.000000</td>\n",
       "      <td>1.0</td>\n",
       "      <td>0.0</td>\n",
       "      <td>...</td>\n",
       "      <td>0.000000</td>\n",
       "      <td>9.0</td>\n",
       "      <td>48.0</td>\n",
       "      <td>21.0</td>\n",
       "      <td>0.0</td>\n",
       "      <td>21.000000</td>\n",
       "      <td>8.0</td>\n",
       "      <td>0.0</td>\n",
       "      <td>0.0</td>\n",
       "      <td>7</td>\n",
       "    </tr>\n",
       "    <tr>\n",
       "      <th>4</th>\n",
       "      <td>2208599</td>\n",
       "      <td>256471</td>\n",
       "      <td>12</td>\n",
       "      <td>2.0</td>\n",
       "      <td>12.0</td>\n",
       "      <td>12.0</td>\n",
       "      <td>NaN</td>\n",
       "      <td>5.000000</td>\n",
       "      <td>1.0</td>\n",
       "      <td>0.0</td>\n",
       "      <td>...</td>\n",
       "      <td>0.000000</td>\n",
       "      <td>13.0</td>\n",
       "      <td>143.0</td>\n",
       "      <td>77.0</td>\n",
       "      <td>0.0</td>\n",
       "      <td>31.586477</td>\n",
       "      <td>12.0</td>\n",
       "      <td>0.0</td>\n",
       "      <td>0.0</td>\n",
       "      <td>11</td>\n",
       "    </tr>\n",
       "  </tbody>\n",
       "</table>\n",
       "<p>5 rows × 44 columns</p>\n",
       "</div>"
      ],
      "text/plain": [
       "   SK_ID_PREV  SK_ID_CURR  COUNT(pos_cash)  MAX(pos_cash.CARD_ACTIVITY)  \\\n",
       "0     2119427      331456                6                          2.0   \n",
       "1     1055322      204968               13                          2.0   \n",
       "2     1768785      455527               13                          2.0   \n",
       "3     1783964      238215                8                          2.0   \n",
       "4     2208599      256471               12                          2.0   \n",
       "\n",
       "   MAX(pos_cash.CNT_INSTALMENT)  MAX(pos_cash.CNT_INSTALMENT_FUTURE)  \\\n",
       "0                           6.0                                  6.0   \n",
       "1                          12.0                                 12.0   \n",
       "2                          12.0                                 12.0   \n",
       "3                           6.0                                  6.0   \n",
       "4                          12.0                                 12.0   \n",
       "\n",
       "   MAX(pos_cash.RATIO_DPD)  MAX(pos_cash.RATIO_Term_Payed_Left)  \\\n",
       "0                      NaN                             1.666667   \n",
       "1                      NaN                            10.000000   \n",
       "2                      1.0                            12.000000   \n",
       "3                      NaN                             6.000000   \n",
       "4                      NaN                             5.000000   \n",
       "\n",
       "   MAX(pos_cash.RISK_PROFILE)  MAX(pos_cash.SK_DPD)  ...  \\\n",
       "0                         1.0                   0.0  ...   \n",
       "1                         1.0                   6.0  ...   \n",
       "2                         1.0                   0.0  ...   \n",
       "3                         1.0                   0.0  ...   \n",
       "4                         1.0                   0.0  ...   \n",
       "\n",
       "   STD(pos_cash.SK_DPD_DEF)  SUM(pos_cash.CARD_ACTIVITY)  \\\n",
       "0                  0.000000                          7.0   \n",
       "1                  1.664101                         14.0   \n",
       "2                  0.000000                         14.0   \n",
       "3                  0.000000                          9.0   \n",
       "4                  0.000000                         13.0   \n",
       "\n",
       "   SUM(pos_cash.CNT_INSTALMENT)  SUM(pos_cash.CNT_INSTALMENT_FUTURE)  \\\n",
       "0                          35.0                                 20.0   \n",
       "1                         156.0                                 78.0   \n",
       "2                         156.0                                 78.0   \n",
       "3                          48.0                                 21.0   \n",
       "4                         143.0                                 77.0   \n",
       "\n",
       "   SUM(pos_cash.RATIO_DPD)  SUM(pos_cash.RATIO_Term_Payed_Left)  \\\n",
       "0                      0.0                             8.450000   \n",
       "1                      0.0                            31.782660   \n",
       "2                      1.0                            27.444538   \n",
       "3                      0.0                            21.000000   \n",
       "4                      0.0                            31.586477   \n",
       "\n",
       "   SUM(pos_cash.RISK_PROFILE)  SUM(pos_cash.SK_DPD)  SUM(pos_cash.SK_DPD_DEF)  \\\n",
       "0                         6.0                   0.0                       0.0   \n",
       "1                        13.0                   6.0                       6.0   \n",
       "2                        13.0                   0.0                       0.0   \n",
       "3                         8.0                   0.0                       0.0   \n",
       "4                        12.0                   0.0                       0.0   \n",
       "\n",
       "   Duration  \n",
       "0         5  \n",
       "1        12  \n",
       "2        12  \n",
       "3         7  \n",
       "4        11  \n",
       "\n",
       "[5 rows x 44 columns]"
      ]
     },
     "execution_count": 20,
     "metadata": {},
     "output_type": "execute_result"
    }
   ],
   "source": [
    "pos_cash_feature_matrix.head()"
   ]
  },
  {
   "cell_type": "code",
   "execution_count": 21,
   "metadata": {},
   "outputs": [
    {
     "data": {
      "text/plain": [
       "(935435, 44)"
      ]
     },
     "execution_count": 21,
     "metadata": {},
     "output_type": "execute_result"
    }
   ],
   "source": [
    "pos_cash_feature_matrix.shape"
   ]
  },
  {
   "cell_type": "code",
   "execution_count": 22,
   "metadata": {},
   "outputs": [],
   "source": [
    "pos_cash_feature_matrix.to_csv(r'Archive\\home-credit-default-risk\\pos_cash_feature_matrix.csv')"
   ]
  },
  {
   "cell_type": "code",
   "execution_count": 5,
   "metadata": {},
   "outputs": [],
   "source": [
    "pos_cash_feature_matrix = help_tool.csv_download(r'Archive\\home-credit-default-risk\\pos_cash_feature_matrix.csv').drop(columns='Unnamed: 0')"
   ]
  },
  {
   "cell_type": "code",
   "execution_count": 6,
   "metadata": {},
   "outputs": [
    {
     "data": {
      "text/html": [
       "<div>\n",
       "<style scoped>\n",
       "    .dataframe tbody tr th:only-of-type {\n",
       "        vertical-align: middle;\n",
       "    }\n",
       "\n",
       "    .dataframe tbody tr th {\n",
       "        vertical-align: top;\n",
       "    }\n",
       "\n",
       "    .dataframe thead th {\n",
       "        text-align: right;\n",
       "    }\n",
       "</style>\n",
       "<table border=\"1\" class=\"dataframe\">\n",
       "  <thead>\n",
       "    <tr style=\"text-align: right;\">\n",
       "      <th></th>\n",
       "      <th>SK_ID_PREV</th>\n",
       "      <th>SK_ID_CURR</th>\n",
       "      <th>COUNT(pos_cash)</th>\n",
       "      <th>MAX(pos_cash.CARD_ACTIVITY)</th>\n",
       "      <th>MAX(pos_cash.CNT_INSTALMENT)</th>\n",
       "      <th>MAX(pos_cash.CNT_INSTALMENT_FUTURE)</th>\n",
       "      <th>MAX(pos_cash.RATIO_DPD)</th>\n",
       "      <th>MAX(pos_cash.RATIO_Term_Payed_Left)</th>\n",
       "      <th>MAX(pos_cash.RISK_PROFILE)</th>\n",
       "      <th>MAX(pos_cash.SK_DPD)</th>\n",
       "      <th>...</th>\n",
       "      <th>STD(pos_cash.SK_DPD_DEF)</th>\n",
       "      <th>SUM(pos_cash.CARD_ACTIVITY)</th>\n",
       "      <th>SUM(pos_cash.CNT_INSTALMENT)</th>\n",
       "      <th>SUM(pos_cash.CNT_INSTALMENT_FUTURE)</th>\n",
       "      <th>SUM(pos_cash.RATIO_DPD)</th>\n",
       "      <th>SUM(pos_cash.RATIO_Term_Payed_Left)</th>\n",
       "      <th>SUM(pos_cash.RISK_PROFILE)</th>\n",
       "      <th>SUM(pos_cash.SK_DPD)</th>\n",
       "      <th>SUM(pos_cash.SK_DPD_DEF)</th>\n",
       "      <th>Duration</th>\n",
       "    </tr>\n",
       "  </thead>\n",
       "  <tbody>\n",
       "    <tr>\n",
       "      <th>0</th>\n",
       "      <td>2119427</td>\n",
       "      <td>331456</td>\n",
       "      <td>6</td>\n",
       "      <td>2.0</td>\n",
       "      <td>6.0</td>\n",
       "      <td>6.0</td>\n",
       "      <td>NaN</td>\n",
       "      <td>1.666667</td>\n",
       "      <td>1.0</td>\n",
       "      <td>0.0</td>\n",
       "      <td>...</td>\n",
       "      <td>0.000000</td>\n",
       "      <td>7.0</td>\n",
       "      <td>35.0</td>\n",
       "      <td>20.0</td>\n",
       "      <td>0.0</td>\n",
       "      <td>8.450000</td>\n",
       "      <td>6.0</td>\n",
       "      <td>0.0</td>\n",
       "      <td>0.0</td>\n",
       "      <td>5</td>\n",
       "    </tr>\n",
       "    <tr>\n",
       "      <th>1</th>\n",
       "      <td>1055322</td>\n",
       "      <td>204968</td>\n",
       "      <td>13</td>\n",
       "      <td>2.0</td>\n",
       "      <td>12.0</td>\n",
       "      <td>12.0</td>\n",
       "      <td>NaN</td>\n",
       "      <td>10.000000</td>\n",
       "      <td>1.0</td>\n",
       "      <td>6.0</td>\n",
       "      <td>...</td>\n",
       "      <td>1.664101</td>\n",
       "      <td>14.0</td>\n",
       "      <td>156.0</td>\n",
       "      <td>78.0</td>\n",
       "      <td>0.0</td>\n",
       "      <td>31.782660</td>\n",
       "      <td>13.0</td>\n",
       "      <td>6.0</td>\n",
       "      <td>6.0</td>\n",
       "      <td>12</td>\n",
       "    </tr>\n",
       "    <tr>\n",
       "      <th>2</th>\n",
       "      <td>1768785</td>\n",
       "      <td>455527</td>\n",
       "      <td>13</td>\n",
       "      <td>2.0</td>\n",
       "      <td>12.0</td>\n",
       "      <td>12.0</td>\n",
       "      <td>1.0</td>\n",
       "      <td>12.000000</td>\n",
       "      <td>1.0</td>\n",
       "      <td>0.0</td>\n",
       "      <td>...</td>\n",
       "      <td>0.000000</td>\n",
       "      <td>14.0</td>\n",
       "      <td>156.0</td>\n",
       "      <td>78.0</td>\n",
       "      <td>1.0</td>\n",
       "      <td>27.444538</td>\n",
       "      <td>13.0</td>\n",
       "      <td>0.0</td>\n",
       "      <td>0.0</td>\n",
       "      <td>12</td>\n",
       "    </tr>\n",
       "    <tr>\n",
       "      <th>3</th>\n",
       "      <td>1783964</td>\n",
       "      <td>238215</td>\n",
       "      <td>8</td>\n",
       "      <td>2.0</td>\n",
       "      <td>6.0</td>\n",
       "      <td>6.0</td>\n",
       "      <td>NaN</td>\n",
       "      <td>6.000000</td>\n",
       "      <td>1.0</td>\n",
       "      <td>0.0</td>\n",
       "      <td>...</td>\n",
       "      <td>0.000000</td>\n",
       "      <td>9.0</td>\n",
       "      <td>48.0</td>\n",
       "      <td>21.0</td>\n",
       "      <td>0.0</td>\n",
       "      <td>21.000000</td>\n",
       "      <td>8.0</td>\n",
       "      <td>0.0</td>\n",
       "      <td>0.0</td>\n",
       "      <td>7</td>\n",
       "    </tr>\n",
       "    <tr>\n",
       "      <th>4</th>\n",
       "      <td>2208599</td>\n",
       "      <td>256471</td>\n",
       "      <td>12</td>\n",
       "      <td>2.0</td>\n",
       "      <td>12.0</td>\n",
       "      <td>12.0</td>\n",
       "      <td>NaN</td>\n",
       "      <td>5.000000</td>\n",
       "      <td>1.0</td>\n",
       "      <td>0.0</td>\n",
       "      <td>...</td>\n",
       "      <td>0.000000</td>\n",
       "      <td>13.0</td>\n",
       "      <td>143.0</td>\n",
       "      <td>77.0</td>\n",
       "      <td>0.0</td>\n",
       "      <td>31.586477</td>\n",
       "      <td>12.0</td>\n",
       "      <td>0.0</td>\n",
       "      <td>0.0</td>\n",
       "      <td>11</td>\n",
       "    </tr>\n",
       "  </tbody>\n",
       "</table>\n",
       "<p>5 rows × 44 columns</p>\n",
       "</div>"
      ],
      "text/plain": [
       "   SK_ID_PREV  SK_ID_CURR  COUNT(pos_cash)  MAX(pos_cash.CARD_ACTIVITY)  \\\n",
       "0     2119427      331456                6                          2.0   \n",
       "1     1055322      204968               13                          2.0   \n",
       "2     1768785      455527               13                          2.0   \n",
       "3     1783964      238215                8                          2.0   \n",
       "4     2208599      256471               12                          2.0   \n",
       "\n",
       "   MAX(pos_cash.CNT_INSTALMENT)  MAX(pos_cash.CNT_INSTALMENT_FUTURE)  \\\n",
       "0                           6.0                                  6.0   \n",
       "1                          12.0                                 12.0   \n",
       "2                          12.0                                 12.0   \n",
       "3                           6.0                                  6.0   \n",
       "4                          12.0                                 12.0   \n",
       "\n",
       "   MAX(pos_cash.RATIO_DPD)  MAX(pos_cash.RATIO_Term_Payed_Left)  \\\n",
       "0                      NaN                             1.666667   \n",
       "1                      NaN                            10.000000   \n",
       "2                      1.0                            12.000000   \n",
       "3                      NaN                             6.000000   \n",
       "4                      NaN                             5.000000   \n",
       "\n",
       "   MAX(pos_cash.RISK_PROFILE)  MAX(pos_cash.SK_DPD)  ...  \\\n",
       "0                         1.0                   0.0  ...   \n",
       "1                         1.0                   6.0  ...   \n",
       "2                         1.0                   0.0  ...   \n",
       "3                         1.0                   0.0  ...   \n",
       "4                         1.0                   0.0  ...   \n",
       "\n",
       "   STD(pos_cash.SK_DPD_DEF)  SUM(pos_cash.CARD_ACTIVITY)  \\\n",
       "0                  0.000000                          7.0   \n",
       "1                  1.664101                         14.0   \n",
       "2                  0.000000                         14.0   \n",
       "3                  0.000000                          9.0   \n",
       "4                  0.000000                         13.0   \n",
       "\n",
       "   SUM(pos_cash.CNT_INSTALMENT)  SUM(pos_cash.CNT_INSTALMENT_FUTURE)  \\\n",
       "0                          35.0                                 20.0   \n",
       "1                         156.0                                 78.0   \n",
       "2                         156.0                                 78.0   \n",
       "3                          48.0                                 21.0   \n",
       "4                         143.0                                 77.0   \n",
       "\n",
       "   SUM(pos_cash.RATIO_DPD)  SUM(pos_cash.RATIO_Term_Payed_Left)  \\\n",
       "0                      0.0                             8.450000   \n",
       "1                      0.0                            31.782660   \n",
       "2                      1.0                            27.444538   \n",
       "3                      0.0                            21.000000   \n",
       "4                      0.0                            31.586477   \n",
       "\n",
       "   SUM(pos_cash.RISK_PROFILE)  SUM(pos_cash.SK_DPD)  SUM(pos_cash.SK_DPD_DEF)  \\\n",
       "0                         6.0                   0.0                       0.0   \n",
       "1                        13.0                   6.0                       6.0   \n",
       "2                        13.0                   0.0                       0.0   \n",
       "3                         8.0                   0.0                       0.0   \n",
       "4                        12.0                   0.0                       0.0   \n",
       "\n",
       "   Duration  \n",
       "0         5  \n",
       "1        12  \n",
       "2        12  \n",
       "3         7  \n",
       "4        11  \n",
       "\n",
       "[5 rows x 44 columns]"
      ]
     },
     "execution_count": 6,
     "metadata": {},
     "output_type": "execute_result"
    }
   ],
   "source": [
    "pos_cash_feature_matrix.head()"
   ]
  },
  {
   "cell_type": "markdown",
   "metadata": {},
   "source": [
    "Principal Component Analysis (PCA) - PCA assumes linear relationships among features, which may not capture complex, nonlinear structures."
   ]
  },
  {
   "cell_type": "code",
   "execution_count": 7,
   "metadata": {},
   "outputs": [],
   "source": [
    "application_train = help_tool.csv_download(r'Archive\\home-credit-default-risk\\application_train.csv')[['SK_ID_CURR', 'TARGET']]"
   ]
  },
  {
   "cell_type": "markdown",
   "metadata": {},
   "source": [
    "## Selecting featureswith Light XGB"
   ]
  },
  {
   "cell_type": "code",
   "execution_count": 8,
   "metadata": {},
   "outputs": [],
   "source": [
    "app_pos_cash_feature_matrix = duckdb.query(\"\"\"  \n",
    "    SELECT A.*, B.TARGET\n",
    "    FROM pos_cash_feature_matrix A\n",
    "    INNER JOIN application_train B\n",
    "    ON A.SK_ID_CURR = B.SK_ID_CURR\n",
    "  \"\"\").to_df()"
   ]
  },
  {
   "cell_type": "markdown",
   "metadata": {},
   "source": [
    "Only 7% of target is positive"
   ]
  },
  {
   "cell_type": "code",
   "execution_count": 25,
   "metadata": {},
   "outputs": [
    {
     "data": {
      "text/plain": [
       "TARGET\n",
       "0    0.926306\n",
       "1    0.073694\n",
       "Name: count, dtype: float64"
      ]
     },
     "execution_count": 25,
     "metadata": {},
     "output_type": "execute_result"
    }
   ],
   "source": [
    "app_pos_cash_feature_matrix['TARGET'].value_counts() / app_pos_cash_feature_matrix['TARGET'].count()"
   ]
  },
  {
   "cell_type": "code",
   "execution_count": 9,
   "metadata": {},
   "outputs": [],
   "source": [
    "y = app_pos_cash_feature_matrix['TARGET']\n",
    "X = app_pos_cash_feature_matrix.drop(columns=['TARGET', 'SK_ID_CURR'])\n",
    "\n",
    "# Split the dataset into training and testing sets\n",
    "X_train, X_test, y_train, y_test = train_test_split(X, y, test_size=0.2, random_state=42)\n",
    "\n",
    "# Set the parameters for the LightGBM model\n",
    "params = {\n",
    "    'objective': 'binary',\n",
    "    'metric': 'binary_logloss',\n",
    "    'boosting_type': 'gbdt',\n",
    "    'num_leaves': 31,\n",
    "    'learning_rate': 0.05,\n",
    "    'verbose': 0\n",
    "}\n",
    "\n",
    "# Train the model\n",
    "lgb_model = LGBMClassifier(**params, n_estimators=100)\n",
    "lgb_model.fit(X_train, y_train, eval_set=[(X_test, y_test)])\n",
    "\n",
    "# Get feature importances\n",
    "importance = lgb_model.feature_importances_\n",
    "feature_importance = pd.DataFrame({\n",
    "    'feature': X.columns,\n",
    "    'importance': importance\n",
    "})\n",
    "\n",
    "# Sort features by importance\n",
    "feature_importance = feature_importance.sort_values(by='importance', ascending=False)"
   ]
  },
  {
   "cell_type": "code",
   "execution_count": 10,
   "metadata": {},
   "outputs": [],
   "source": [
    "# Step 1: Drop unnecessary columns\n",
    "filtered_matrix = pos_cash_feature_matrix.drop(columns=['SK_ID_PREV', 'SK_ID_CURR'])\n",
    "\n",
    "# Step 2: Compute the correlation matrix\n",
    "correlation_matrix = filtered_matrix.corr()\n",
    "\n",
    "# Step 3: Identify pairs of features with correlation greater than 0.9\n",
    "high_corr_pairs = correlation_matrix.unstack().sort_values(ascending=False)\n",
    "high_corr_pairs = high_corr_pairs[(high_corr_pairs < 1.0) & (high_corr_pairs >= 0.9)]\n",
    "\n",
    "# Convert the series to a DataFrame for better readability\n",
    "high_corr_pairs_df = high_corr_pairs.reset_index()\n",
    "high_corr_pairs_df.columns = ['Feature1', 'Feature2', 'Correlation']\n",
    "\n",
    "# Step 4: Rank features based on feature importance\n",
    "# Assuming feature_importance is a DataFrame with 'feature' and 'importance' columns\n",
    "# Join importance values with the feature pairs\n",
    "high_corr_pairs_df = high_corr_pairs_df.merge(\n",
    "    feature_importance, left_on='Feature1', right_on='feature').rename(columns={'importance': 'Importance1'})\n",
    "high_corr_pairs_df = high_corr_pairs_df.merge(\n",
    "    feature_importance, left_on='Feature2', right_on='feature').rename(columns={'importance': 'Importance2'})\n",
    "\n",
    "# Drop the extra 'feature' columns from the merges\n",
    "high_corr_pairs_df = high_corr_pairs_df.drop(columns=['feature_x', 'feature_y'])\n",
    "\n",
    "# Step 5: Determine which feature to drop based on lower importance\n",
    "high_corr_pairs_df['Feature_to_Drop'] = np.where(\n",
    "    high_corr_pairs_df['Importance1'] < high_corr_pairs_df['Importance2'], \n",
    "    high_corr_pairs_df['Feature1'], \n",
    "    high_corr_pairs_df['Feature2']\n",
    ")\n",
    "\n",
    "# Identify unique features to drop\n",
    "features_to_drop = high_corr_pairs_df['Feature_to_Drop'].unique()\n"
   ]
  },
  {
   "cell_type": "code",
   "execution_count": 11,
   "metadata": {},
   "outputs": [],
   "source": [
    "app_pos_cash_feature_matrix.drop(columns=features_to_drop, inplace=True)"
   ]
  },
  {
   "cell_type": "markdown",
   "metadata": {},
   "source": [
    "### 2nd Run"
   ]
  },
  {
   "cell_type": "code",
   "execution_count": 37,
   "metadata": {},
   "outputs": [],
   "source": [
    "y = app_pos_cash_feature_matrix['TARGET']\n",
    "X = app_pos_cash_feature_matrix.drop(columns=['TARGET', 'SK_ID_CURR', 'SK_ID_PREV'])\n",
    "\n",
    "# Split the dataset into training and testing sets\n",
    "X_train, X_test, y_train, y_test = train_test_split(X, y, test_size=0.2, random_state=42)\n",
    "\n",
    "# Set the parameters for the LightGBM model\n",
    "params = {\n",
    "    'objective': 'binary',\n",
    "    'metric': 'binary_logloss',\n",
    "    'boosting_type': 'gbdt',\n",
    "    'num_leaves': 31,\n",
    "    'learning_rate': 0.05,\n",
    "    'verbose': 0\n",
    "}\n",
    "\n",
    "# Train the model\n",
    "lgb_model = LGBMClassifier(**params, n_estimators=100)\n",
    "lgb_model.fit(X_train, y_train, eval_set=[(X_test, y_test)])\n",
    "\n",
    "# Get feature importances\n",
    "importance = lgb_model.feature_importances_\n",
    "feature_importance = pd.DataFrame({\n",
    "    'feature': X.columns,\n",
    "    'importance': importance\n",
    "})\n",
    "\n",
    "# Sort features by importance\n",
    "feature_importance = feature_importance.sort_values(by='importance', ascending=False)"
   ]
  },
  {
   "cell_type": "code",
   "execution_count": 40,
   "metadata": {},
   "outputs": [],
   "source": [
    "numerical_features = X.select_dtypes(include=['number']).columns.tolist()\n",
    "\n",
    "# Preprocessing for numerical data\n",
    "numerical_transformer = StandardScaler()\n",
    "\n",
    "# Preprocessing for categorical data\n",
    "categorical_transformer = OneHotEncoder(handle_unknown='ignore')\n",
    "\n",
    "# Bundle preprocessing for numerical and categorical data\n",
    "preprocessor = ColumnTransformer(\n",
    "    transformers=[\n",
    "        ('num', numerical_transformer, numerical_features),\n",
    "    ])\n",
    "\n",
    "params = {\n",
    "    'objective': 'binary',\n",
    "    'metric': 'binary_logloss',\n",
    "    'boosting_type': 'gbdt',\n",
    "    'num_leaves': 31,\n",
    "    'learning_rate': 0.05,\n",
    "    'verbose': 0\n",
    "}\n",
    "\n",
    "# Define the model\n",
    "model = LGBMClassifier(**params, n_estimators=100)\n",
    "\n",
    "# Create and evaluate the pipeline\n",
    "pipeline = Pipeline(steps=[\n",
    "    ('preprocessor', preprocessor),\n",
    "    ('model', model)\n",
    "])\n",
    "\n",
    "pipeline.fit(X_train, y_train)\n",
    "\n",
    "# Predict on the test set\n",
    "y_pred = pipeline.predict(X_test)\n",
    "y_pred_proba = pipeline.predict_proba(X_test)[:, 1]"
   ]
  },
  {
   "cell_type": "code",
   "execution_count": 41,
   "metadata": {},
   "outputs": [
    {
     "name": "stdout",
     "output_type": "stream",
     "text": [
      "Precision: 0.2\n",
      "accuracy: 0.9259534872086698\n",
      "recall: 0.00033815199932369603\n",
      "ROC AUC: 0.5541934962809731\n"
     ]
    }
   ],
   "source": [
    "precision = precision_score(y_test, y_pred)\n",
    "recall = recall_score(y_test, y_pred)\n",
    "accuracy = accuracy_score(y_test, y_pred)\n",
    "roc_auc = roc_auc_score(y_test, y_pred_proba)\n",
    "\n",
    "print(f\"Precision: {precision}\")\n",
    "print(f\"accuracy: {accuracy}\")\n",
    "print(f\"recall: {recall}\")\n",
    "print(f\"ROC AUC: {roc_auc}\")"
   ]
  },
  {
   "cell_type": "code",
   "execution_count": 30,
   "metadata": {},
   "outputs": [],
   "source": [
    "# app_pos_cash_feature_matrix_filtered = app_pos_cash_feature_matrix[['SK_ID_PREV', 'TARGET'] + feature_importance.head(15)['feature'].to_list()]"
   ]
  },
  {
   "cell_type": "code",
   "execution_count": 31,
   "metadata": {},
   "outputs": [],
   "source": [
    "# app_pos_cash_feature_matrix_filtered.fillna(-1, inplace=True)"
   ]
  },
  {
   "cell_type": "code",
   "execution_count": 32,
   "metadata": {},
   "outputs": [],
   "source": [
    "# help_visuals.distribution_check(app_pos_cash_feature_matrix_filtered.drop(columns=['SK_ID_PREV']).sample(100000, random_state=42))"
   ]
  },
  {
   "cell_type": "markdown",
   "metadata": {},
   "source": [
    "# Clustering with K means\n",
    "## All features"
   ]
  },
  {
   "cell_type": "code",
   "execution_count": 43,
   "metadata": {},
   "outputs": [
    {
     "data": {
      "image/png": "[encoded data removed]",
      "text/plain": [
       "<Figure size 1600x800 with 2 Axes>"
      ]
     },
     "metadata": {},
     "output_type": "display_data"
    }
   ],
   "source": [
    "# Convert Pandas DataFrame to Polars DataFrame\n",
    "polars_df = pl.from_pandas(pos_cash_feature_matrix[feature_importance.head(10)['feature'].to_list()].sample(20000, random_state=42).fillna(0))\n",
    "\n",
    "# Convert Polars DataFrame to a numpy array for K-means\n",
    "X = polars_df.to_numpy()\n",
    "\n",
    "# Standardize the features\n",
    "scaler = StandardScaler()\n",
    "X_scaled = scaler.fit_transform(X)\n",
    "\n",
    "# Elbow Method\n",
    "inertia = []\n",
    "silhouette_scores = []\n",
    "K = range(2, 10)\n",
    "\n",
    "for k in K:\n",
    "    kmeans = KMeans(n_clusters=k, random_state=42)\n",
    "    kmeans.fit(X_scaled)\n",
    "    inertia.append(kmeans.inertia_)\n",
    "    silhouette_scores.append(silhouette_score(X_scaled, kmeans.labels_))\n",
    "\n",
    "# Plot the Elbow\n",
    "plt.figure(figsize=(16, 8))\n",
    "plt.subplot(1, 2, 1)\n",
    "plt.plot(K, inertia, 'bx-')\n",
    "plt.xlabel('Number of clusters')\n",
    "plt.ylabel('Inertia')\n",
    "plt.title('Elbow Method for Optimal k')\n",
    "\n",
    "# Plot the Silhouette Scores\n",
    "plt.subplot(1, 2, 2)\n",
    "plt.plot(K, silhouette_scores, 'bx-')\n",
    "plt.xlabel('Number of clusters')\n",
    "plt.ylabel('Silhouette Score')\n",
    "plt.title('Silhouette Score for Optimal k')\n",
    "\n",
    "plt.show()"
   ]
  },
  {
   "cell_type": "code",
   "execution_count": 44,
   "metadata": {},
   "outputs": [
    {
     "data": {
      "image/png": "[encoded data removed]",
      "text/plain": [
       "<Figure size 1000x600 with 2 Axes>"
      ]
     },
     "metadata": {},
     "output_type": "display_data"
    }
   ],
   "source": [
    "polars_df = pl.from_pandas(pos_cash_feature_matrix.drop(columns=['SK_ID_PREV', 'SK_ID_CURR']).fillna(0))\n",
    "\n",
    "# Convert Polars DataFrame to a numpy array for K-means\n",
    "X = polars_df.to_numpy()\n",
    "\n",
    "# Standardize the features\n",
    "scaler = StandardScaler()\n",
    "X_scaled = scaler.fit_transform(X)\n",
    "\n",
    "n_clusters = 5\n",
    "kmeans = KMeans(n_clusters=n_clusters, random_state=42)\n",
    "\n",
    "# Fit the model to the data\n",
    "kmeans.fit(X_scaled)\n",
    "\n",
    "# Extract cluster labels\n",
    "labels = kmeans.labels_\n",
    "\n",
    "# Add cluster labels to the Polars DataFrame\n",
    "polars_df = polars_df.with_columns(pl.Series(name=\"cluster\", values=labels))\n",
    "\n",
    "# print(polars_df)\n",
    "\n",
    "# Visualize the clusters (if the data is 2D or can be reduced to 2D)\n",
    "plt.figure(figsize=(10, 6))\n",
    "plt.scatter(X_scaled[:, 0], X_scaled[:, 1], c=labels, cmap='viridis', s=50)\n",
    "plt.title('K-means Clustering')\n",
    "plt.colorbar()\n",
    "plt.xlabel('Feature 1 (scaled)')\n",
    "plt.ylabel('Feature 2 (scaled)')\n",
    "plt.show()"
   ]
  },
  {
   "cell_type": "code",
   "execution_count": 45,
   "metadata": {},
   "outputs": [],
   "source": [
    "pos_cash_feature_matrix['Cluster_pos_cash'] = polars_df.to_pandas()['cluster']"
   ]
  },
  {
   "cell_type": "code",
   "execution_count": 46,
   "metadata": {},
   "outputs": [
    {
     "data": {
      "text/html": [
       "<div>\n",
       "<style scoped>\n",
       "    .dataframe tbody tr th:only-of-type {\n",
       "        vertical-align: middle;\n",
       "    }\n",
       "\n",
       "    .dataframe tbody tr th {\n",
       "        vertical-align: top;\n",
       "    }\n",
       "\n",
       "    .dataframe thead th {\n",
       "        text-align: right;\n",
       "    }\n",
       "</style>\n",
       "<table border=\"1\" class=\"dataframe\">\n",
       "  <thead>\n",
       "    <tr style=\"text-align: right;\">\n",
       "      <th></th>\n",
       "      <th>SK_ID_PREV</th>\n",
       "      <th>SK_ID_CURR</th>\n",
       "      <th>COUNT(pos_cash)</th>\n",
       "      <th>MAX(pos_cash.CARD_ACTIVITY)</th>\n",
       "      <th>MAX(pos_cash.CNT_INSTALMENT)</th>\n",
       "      <th>MAX(pos_cash.CNT_INSTALMENT_FUTURE)</th>\n",
       "      <th>MAX(pos_cash.RATIO_DPD)</th>\n",
       "      <th>MAX(pos_cash.RATIO_Term_Payed_Left)</th>\n",
       "      <th>MAX(pos_cash.RISK_PROFILE)</th>\n",
       "      <th>MAX(pos_cash.SK_DPD)</th>\n",
       "      <th>...</th>\n",
       "      <th>SUM(pos_cash.CARD_ACTIVITY)</th>\n",
       "      <th>SUM(pos_cash.CNT_INSTALMENT)</th>\n",
       "      <th>SUM(pos_cash.CNT_INSTALMENT_FUTURE)</th>\n",
       "      <th>SUM(pos_cash.RATIO_DPD)</th>\n",
       "      <th>SUM(pos_cash.RATIO_Term_Payed_Left)</th>\n",
       "      <th>SUM(pos_cash.RISK_PROFILE)</th>\n",
       "      <th>SUM(pos_cash.SK_DPD)</th>\n",
       "      <th>SUM(pos_cash.SK_DPD_DEF)</th>\n",
       "      <th>Duration</th>\n",
       "      <th>Cluster_pos_cash</th>\n",
       "    </tr>\n",
       "  </thead>\n",
       "  <tbody>\n",
       "    <tr>\n",
       "      <th>0</th>\n",
       "      <td>2119427</td>\n",
       "      <td>331456</td>\n",
       "      <td>6</td>\n",
       "      <td>2.0</td>\n",
       "      <td>6.0</td>\n",
       "      <td>6.0</td>\n",
       "      <td>NaN</td>\n",
       "      <td>1.666667</td>\n",
       "      <td>1.0</td>\n",
       "      <td>0.0</td>\n",
       "      <td>...</td>\n",
       "      <td>7.0</td>\n",
       "      <td>35.0</td>\n",
       "      <td>20.0</td>\n",
       "      <td>0.0</td>\n",
       "      <td>8.450000</td>\n",
       "      <td>6.0</td>\n",
       "      <td>0.0</td>\n",
       "      <td>0.0</td>\n",
       "      <td>5</td>\n",
       "      <td>1</td>\n",
       "    </tr>\n",
       "    <tr>\n",
       "      <th>1</th>\n",
       "      <td>1055322</td>\n",
       "      <td>204968</td>\n",
       "      <td>13</td>\n",
       "      <td>2.0</td>\n",
       "      <td>12.0</td>\n",
       "      <td>12.0</td>\n",
       "      <td>NaN</td>\n",
       "      <td>10.000000</td>\n",
       "      <td>1.0</td>\n",
       "      <td>6.0</td>\n",
       "      <td>...</td>\n",
       "      <td>14.0</td>\n",
       "      <td>156.0</td>\n",
       "      <td>78.0</td>\n",
       "      <td>0.0</td>\n",
       "      <td>31.782660</td>\n",
       "      <td>13.0</td>\n",
       "      <td>6.0</td>\n",
       "      <td>6.0</td>\n",
       "      <td>12</td>\n",
       "      <td>4</td>\n",
       "    </tr>\n",
       "    <tr>\n",
       "      <th>2</th>\n",
       "      <td>1768785</td>\n",
       "      <td>455527</td>\n",
       "      <td>13</td>\n",
       "      <td>2.0</td>\n",
       "      <td>12.0</td>\n",
       "      <td>12.0</td>\n",
       "      <td>1.0</td>\n",
       "      <td>12.000000</td>\n",
       "      <td>1.0</td>\n",
       "      <td>0.0</td>\n",
       "      <td>...</td>\n",
       "      <td>14.0</td>\n",
       "      <td>156.0</td>\n",
       "      <td>78.0</td>\n",
       "      <td>1.0</td>\n",
       "      <td>27.444538</td>\n",
       "      <td>13.0</td>\n",
       "      <td>0.0</td>\n",
       "      <td>0.0</td>\n",
       "      <td>12</td>\n",
       "      <td>4</td>\n",
       "    </tr>\n",
       "    <tr>\n",
       "      <th>3</th>\n",
       "      <td>1783964</td>\n",
       "      <td>238215</td>\n",
       "      <td>8</td>\n",
       "      <td>2.0</td>\n",
       "      <td>6.0</td>\n",
       "      <td>6.0</td>\n",
       "      <td>NaN</td>\n",
       "      <td>6.000000</td>\n",
       "      <td>1.0</td>\n",
       "      <td>0.0</td>\n",
       "      <td>...</td>\n",
       "      <td>9.0</td>\n",
       "      <td>48.0</td>\n",
       "      <td>21.0</td>\n",
       "      <td>0.0</td>\n",
       "      <td>21.000000</td>\n",
       "      <td>8.0</td>\n",
       "      <td>0.0</td>\n",
       "      <td>0.0</td>\n",
       "      <td>7</td>\n",
       "      <td>1</td>\n",
       "    </tr>\n",
       "    <tr>\n",
       "      <th>4</th>\n",
       "      <td>2208599</td>\n",
       "      <td>256471</td>\n",
       "      <td>12</td>\n",
       "      <td>2.0</td>\n",
       "      <td>12.0</td>\n",
       "      <td>12.0</td>\n",
       "      <td>NaN</td>\n",
       "      <td>5.000000</td>\n",
       "      <td>1.0</td>\n",
       "      <td>0.0</td>\n",
       "      <td>...</td>\n",
       "      <td>13.0</td>\n",
       "      <td>143.0</td>\n",
       "      <td>77.0</td>\n",
       "      <td>0.0</td>\n",
       "      <td>31.586477</td>\n",
       "      <td>12.0</td>\n",
       "      <td>0.0</td>\n",
       "      <td>0.0</td>\n",
       "      <td>11</td>\n",
       "      <td>1</td>\n",
       "    </tr>\n",
       "  </tbody>\n",
       "</table>\n",
       "<p>5 rows × 45 columns</p>\n",
       "</div>"
      ],
      "text/plain": [
       "   SK_ID_PREV  SK_ID_CURR  COUNT(pos_cash)  MAX(pos_cash.CARD_ACTIVITY)  \\\n",
       "0     2119427      331456                6                          2.0   \n",
       "1     1055322      204968               13                          2.0   \n",
       "2     1768785      455527               13                          2.0   \n",
       "3     1783964      238215                8                          2.0   \n",
       "4     2208599      256471               12                          2.0   \n",
       "\n",
       "   MAX(pos_cash.CNT_INSTALMENT)  MAX(pos_cash.CNT_INSTALMENT_FUTURE)  \\\n",
       "0                           6.0                                  6.0   \n",
       "1                          12.0                                 12.0   \n",
       "2                          12.0                                 12.0   \n",
       "3                           6.0                                  6.0   \n",
       "4                          12.0                                 12.0   \n",
       "\n",
       "   MAX(pos_cash.RATIO_DPD)  MAX(pos_cash.RATIO_Term_Payed_Left)  \\\n",
       "0                      NaN                             1.666667   \n",
       "1                      NaN                            10.000000   \n",
       "2                      1.0                            12.000000   \n",
       "3                      NaN                             6.000000   \n",
       "4                      NaN                             5.000000   \n",
       "\n",
       "   MAX(pos_cash.RISK_PROFILE)  MAX(pos_cash.SK_DPD)  ...  \\\n",
       "0                         1.0                   0.0  ...   \n",
       "1                         1.0                   6.0  ...   \n",
       "2                         1.0                   0.0  ...   \n",
       "3                         1.0                   0.0  ...   \n",
       "4                         1.0                   0.0  ...   \n",
       "\n",
       "   SUM(pos_cash.CARD_ACTIVITY)  SUM(pos_cash.CNT_INSTALMENT)  \\\n",
       "0                          7.0                          35.0   \n",
       "1                         14.0                         156.0   \n",
       "2                         14.0                         156.0   \n",
       "3                          9.0                          48.0   \n",
       "4                         13.0                         143.0   \n",
       "\n",
       "   SUM(pos_cash.CNT_INSTALMENT_FUTURE)  SUM(pos_cash.RATIO_DPD)  \\\n",
       "0                                 20.0                      0.0   \n",
       "1                                 78.0                      0.0   \n",
       "2                                 78.0                      1.0   \n",
       "3                                 21.0                      0.0   \n",
       "4                                 77.0                      0.0   \n",
       "\n",
       "   SUM(pos_cash.RATIO_Term_Payed_Left)  SUM(pos_cash.RISK_PROFILE)  \\\n",
       "0                             8.450000                         6.0   \n",
       "1                            31.782660                        13.0   \n",
       "2                            27.444538                        13.0   \n",
       "3                            21.000000                         8.0   \n",
       "4                            31.586477                        12.0   \n",
       "\n",
       "   SUM(pos_cash.SK_DPD)  SUM(pos_cash.SK_DPD_DEF)  Duration  Cluster_pos_cash  \n",
       "0                   0.0                       0.0         5                 1  \n",
       "1                   6.0                       6.0        12                 4  \n",
       "2                   0.0                       0.0        12                 4  \n",
       "3                   0.0                       0.0         7                 1  \n",
       "4                   0.0                       0.0        11                 1  \n",
       "\n",
       "[5 rows x 45 columns]"
      ]
     },
     "execution_count": 46,
     "metadata": {},
     "output_type": "execute_result"
    }
   ],
   "source": [
    "pos_cash_feature_matrix.head()"
   ]
  },
  {
   "cell_type": "code",
   "execution_count": 47,
   "metadata": {},
   "outputs": [],
   "source": [
    "pos_cash_feature_matrix = duckdb.query(\"\"\"  \n",
    "    SELECT A.*, B.TARGET\n",
    "    FROM pos_cash_feature_matrix A\n",
    "    INNER JOIN application_train B\n",
    "    ON A.SK_ID_CURR = B.SK_ID_CURR\n",
    "  \"\"\").to_df()"
   ]
  },
  {
   "cell_type": "code",
   "execution_count": 50,
   "metadata": {},
   "outputs": [
    {
     "data": {
      "text/html": [
       "<div>\n",
       "<style scoped>\n",
       "    .dataframe tbody tr th:only-of-type {\n",
       "        vertical-align: middle;\n",
       "    }\n",
       "\n",
       "    .dataframe tbody tr th {\n",
       "        vertical-align: top;\n",
       "    }\n",
       "\n",
       "    .dataframe thead th {\n",
       "        text-align: right;\n",
       "    }\n",
       "</style>\n",
       "<table border=\"1\" class=\"dataframe\">\n",
       "  <thead>\n",
       "    <tr style=\"text-align: right;\">\n",
       "      <th></th>\n",
       "      <th>SK_ID_PREV</th>\n",
       "      <th>SK_ID_CURR</th>\n",
       "      <th>COUNT(pos_cash)</th>\n",
       "      <th>MAX(pos_cash.CARD_ACTIVITY)</th>\n",
       "      <th>MAX(pos_cash.CNT_INSTALMENT)</th>\n",
       "      <th>MAX(pos_cash.CNT_INSTALMENT_FUTURE)</th>\n",
       "      <th>MAX(pos_cash.RATIO_DPD)</th>\n",
       "      <th>MAX(pos_cash.RATIO_Term_Payed_Left)</th>\n",
       "      <th>MAX(pos_cash.RISK_PROFILE)</th>\n",
       "      <th>MAX(pos_cash.SK_DPD)</th>\n",
       "      <th>...</th>\n",
       "      <th>SUM(pos_cash.CNT_INSTALMENT)</th>\n",
       "      <th>SUM(pos_cash.CNT_INSTALMENT_FUTURE)</th>\n",
       "      <th>SUM(pos_cash.RATIO_DPD)</th>\n",
       "      <th>SUM(pos_cash.RATIO_Term_Payed_Left)</th>\n",
       "      <th>SUM(pos_cash.RISK_PROFILE)</th>\n",
       "      <th>SUM(pos_cash.SK_DPD)</th>\n",
       "      <th>SUM(pos_cash.SK_DPD_DEF)</th>\n",
       "      <th>Duration</th>\n",
       "      <th>Cluster_pos_cash</th>\n",
       "      <th>TARGET</th>\n",
       "    </tr>\n",
       "  </thead>\n",
       "  <tbody>\n",
       "    <tr>\n",
       "      <th>0</th>\n",
       "      <td>1004775</td>\n",
       "      <td>338909</td>\n",
       "      <td>6</td>\n",
       "      <td>2.0</td>\n",
       "      <td>6.0</td>\n",
       "      <td>6.0</td>\n",
       "      <td>NaN</td>\n",
       "      <td>1.846154</td>\n",
       "      <td>1.0</td>\n",
       "      <td>0.0</td>\n",
       "      <td>...</td>\n",
       "      <td>35.0</td>\n",
       "      <td>20.0</td>\n",
       "      <td>0.0</td>\n",
       "      <td>7.041252</td>\n",
       "      <td>6.0</td>\n",
       "      <td>0.0</td>\n",
       "      <td>0.0</td>\n",
       "      <td>5</td>\n",
       "      <td>1</td>\n",
       "      <td>0</td>\n",
       "    </tr>\n",
       "    <tr>\n",
       "      <th>1</th>\n",
       "      <td>2384110</td>\n",
       "      <td>286538</td>\n",
       "      <td>6</td>\n",
       "      <td>2.0</td>\n",
       "      <td>6.0</td>\n",
       "      <td>6.0</td>\n",
       "      <td>NaN</td>\n",
       "      <td>2.666667</td>\n",
       "      <td>1.0</td>\n",
       "      <td>0.0</td>\n",
       "      <td>...</td>\n",
       "      <td>35.0</td>\n",
       "      <td>20.0</td>\n",
       "      <td>0.0</td>\n",
       "      <td>10.678431</td>\n",
       "      <td>6.0</td>\n",
       "      <td>0.0</td>\n",
       "      <td>0.0</td>\n",
       "      <td>5</td>\n",
       "      <td>1</td>\n",
       "      <td>0</td>\n",
       "    </tr>\n",
       "    <tr>\n",
       "      <th>2</th>\n",
       "      <td>1488834</td>\n",
       "      <td>294351</td>\n",
       "      <td>9</td>\n",
       "      <td>1.0</td>\n",
       "      <td>10.0</td>\n",
       "      <td>10.0</td>\n",
       "      <td>1.0</td>\n",
       "      <td>6.000000</td>\n",
       "      <td>1.0</td>\n",
       "      <td>12.0</td>\n",
       "      <td>...</td>\n",
       "      <td>90.0</td>\n",
       "      <td>54.0</td>\n",
       "      <td>1.0</td>\n",
       "      <td>16.785714</td>\n",
       "      <td>9.0</td>\n",
       "      <td>12.0</td>\n",
       "      <td>0.0</td>\n",
       "      <td>8</td>\n",
       "      <td>1</td>\n",
       "      <td>0</td>\n",
       "    </tr>\n",
       "    <tr>\n",
       "      <th>3</th>\n",
       "      <td>1780514</td>\n",
       "      <td>259362</td>\n",
       "      <td>19</td>\n",
       "      <td>2.0</td>\n",
       "      <td>18.0</td>\n",
       "      <td>18.0</td>\n",
       "      <td>1.0</td>\n",
       "      <td>10.000000</td>\n",
       "      <td>1.0</td>\n",
       "      <td>0.0</td>\n",
       "      <td>...</td>\n",
       "      <td>342.0</td>\n",
       "      <td>171.0</td>\n",
       "      <td>1.0</td>\n",
       "      <td>58.519401</td>\n",
       "      <td>19.0</td>\n",
       "      <td>0.0</td>\n",
       "      <td>0.0</td>\n",
       "      <td>18</td>\n",
       "      <td>3</td>\n",
       "      <td>0</td>\n",
       "    </tr>\n",
       "    <tr>\n",
       "      <th>4</th>\n",
       "      <td>2244494</td>\n",
       "      <td>102760</td>\n",
       "      <td>7</td>\n",
       "      <td>1.0</td>\n",
       "      <td>48.0</td>\n",
       "      <td>48.0</td>\n",
       "      <td>NaN</td>\n",
       "      <td>2.000000</td>\n",
       "      <td>1.0</td>\n",
       "      <td>0.0</td>\n",
       "      <td>...</td>\n",
       "      <td>336.0</td>\n",
       "      <td>315.0</td>\n",
       "      <td>0.0</td>\n",
       "      <td>8.823814</td>\n",
       "      <td>7.0</td>\n",
       "      <td>0.0</td>\n",
       "      <td>0.0</td>\n",
       "      <td>6</td>\n",
       "      <td>0</td>\n",
       "      <td>0</td>\n",
       "    </tr>\n",
       "    <tr>\n",
       "      <th>...</th>\n",
       "      <td>...</td>\n",
       "      <td>...</td>\n",
       "      <td>...</td>\n",
       "      <td>...</td>\n",
       "      <td>...</td>\n",
       "      <td>...</td>\n",
       "      <td>...</td>\n",
       "      <td>...</td>\n",
       "      <td>...</td>\n",
       "      <td>...</td>\n",
       "      <td>...</td>\n",
       "      <td>...</td>\n",
       "      <td>...</td>\n",
       "      <td>...</td>\n",
       "      <td>...</td>\n",
       "      <td>...</td>\n",
       "      <td>...</td>\n",
       "      <td>...</td>\n",
       "      <td>...</td>\n",
       "      <td>...</td>\n",
       "      <td>...</td>\n",
       "    </tr>\n",
       "    <tr>\n",
       "      <th>799558</th>\n",
       "      <td>2192427</td>\n",
       "      <td>214774</td>\n",
       "      <td>13</td>\n",
       "      <td>2.0</td>\n",
       "      <td>12.0</td>\n",
       "      <td>12.0</td>\n",
       "      <td>NaN</td>\n",
       "      <td>3.000000</td>\n",
       "      <td>1.0</td>\n",
       "      <td>0.0</td>\n",
       "      <td>...</td>\n",
       "      <td>156.0</td>\n",
       "      <td>71.0</td>\n",
       "      <td>0.0</td>\n",
       "      <td>16.492949</td>\n",
       "      <td>13.0</td>\n",
       "      <td>0.0</td>\n",
       "      <td>0.0</td>\n",
       "      <td>12</td>\n",
       "      <td>1</td>\n",
       "      <td>0</td>\n",
       "    </tr>\n",
       "    <tr>\n",
       "      <th>799559</th>\n",
       "      <td>1419687</td>\n",
       "      <td>386209</td>\n",
       "      <td>7</td>\n",
       "      <td>2.0</td>\n",
       "      <td>12.0</td>\n",
       "      <td>12.0</td>\n",
       "      <td>NaN</td>\n",
       "      <td>2.666667</td>\n",
       "      <td>1.0</td>\n",
       "      <td>0.0</td>\n",
       "      <td>...</td>\n",
       "      <td>78.0</td>\n",
       "      <td>57.0</td>\n",
       "      <td>0.0</td>\n",
       "      <td>8.901282</td>\n",
       "      <td>7.0</td>\n",
       "      <td>0.0</td>\n",
       "      <td>0.0</td>\n",
       "      <td>6</td>\n",
       "      <td>1</td>\n",
       "      <td>0</td>\n",
       "    </tr>\n",
       "    <tr>\n",
       "      <th>799560</th>\n",
       "      <td>2001231</td>\n",
       "      <td>267232</td>\n",
       "      <td>5</td>\n",
       "      <td>2.0</td>\n",
       "      <td>4.0</td>\n",
       "      <td>4.0</td>\n",
       "      <td>NaN</td>\n",
       "      <td>3.000000</td>\n",
       "      <td>1.0</td>\n",
       "      <td>0.0</td>\n",
       "      <td>...</td>\n",
       "      <td>20.0</td>\n",
       "      <td>10.0</td>\n",
       "      <td>0.0</td>\n",
       "      <td>7.800000</td>\n",
       "      <td>5.0</td>\n",
       "      <td>0.0</td>\n",
       "      <td>0.0</td>\n",
       "      <td>4</td>\n",
       "      <td>1</td>\n",
       "      <td>0</td>\n",
       "    </tr>\n",
       "    <tr>\n",
       "      <th>799561</th>\n",
       "      <td>2549632</td>\n",
       "      <td>310966</td>\n",
       "      <td>4</td>\n",
       "      <td>2.0</td>\n",
       "      <td>60.0</td>\n",
       "      <td>60.0</td>\n",
       "      <td>NaN</td>\n",
       "      <td>1.714286</td>\n",
       "      <td>1.0</td>\n",
       "      <td>0.0</td>\n",
       "      <td>...</td>\n",
       "      <td>183.0</td>\n",
       "      <td>177.0</td>\n",
       "      <td>0.0</td>\n",
       "      <td>4.997499</td>\n",
       "      <td>4.0</td>\n",
       "      <td>0.0</td>\n",
       "      <td>0.0</td>\n",
       "      <td>3</td>\n",
       "      <td>3</td>\n",
       "      <td>0</td>\n",
       "    </tr>\n",
       "    <tr>\n",
       "      <th>799562</th>\n",
       "      <td>1831259</td>\n",
       "      <td>229893</td>\n",
       "      <td>4</td>\n",
       "      <td>2.0</td>\n",
       "      <td>24.0</td>\n",
       "      <td>24.0</td>\n",
       "      <td>NaN</td>\n",
       "      <td>4.000000</td>\n",
       "      <td>1.0</td>\n",
       "      <td>0.0</td>\n",
       "      <td>...</td>\n",
       "      <td>75.0</td>\n",
       "      <td>69.0</td>\n",
       "      <td>0.0</td>\n",
       "      <td>7.243478</td>\n",
       "      <td>4.0</td>\n",
       "      <td>0.0</td>\n",
       "      <td>0.0</td>\n",
       "      <td>3</td>\n",
       "      <td>1</td>\n",
       "      <td>0</td>\n",
       "    </tr>\n",
       "  </tbody>\n",
       "</table>\n",
       "<p>799563 rows × 46 columns</p>\n",
       "</div>"
      ],
      "text/plain": [
       "        SK_ID_PREV  SK_ID_CURR  COUNT(pos_cash)  MAX(pos_cash.CARD_ACTIVITY)  \\\n",
       "0          1004775      338909                6                          2.0   \n",
       "1          2384110      286538                6                          2.0   \n",
       "2          1488834      294351                9                          1.0   \n",
       "3          1780514      259362               19                          2.0   \n",
       "4          2244494      102760                7                          1.0   \n",
       "...            ...         ...              ...                          ...   \n",
       "799558     2192427      214774               13                          2.0   \n",
       "799559     1419687      386209                7                          2.0   \n",
       "799560     2001231      267232                5                          2.0   \n",
       "799561     2549632      310966                4                          2.0   \n",
       "799562     1831259      229893                4                          2.0   \n",
       "\n",
       "        MAX(pos_cash.CNT_INSTALMENT)  MAX(pos_cash.CNT_INSTALMENT_FUTURE)  \\\n",
       "0                                6.0                                  6.0   \n",
       "1                                6.0                                  6.0   \n",
       "2                               10.0                                 10.0   \n",
       "3                               18.0                                 18.0   \n",
       "4                               48.0                                 48.0   \n",
       "...                              ...                                  ...   \n",
       "799558                          12.0                                 12.0   \n",
       "799559                          12.0                                 12.0   \n",
       "799560                           4.0                                  4.0   \n",
       "799561                          60.0                                 60.0   \n",
       "799562                          24.0                                 24.0   \n",
       "\n",
       "        MAX(pos_cash.RATIO_DPD)  MAX(pos_cash.RATIO_Term_Payed_Left)  \\\n",
       "0                           NaN                             1.846154   \n",
       "1                           NaN                             2.666667   \n",
       "2                           1.0                             6.000000   \n",
       "3                           1.0                            10.000000   \n",
       "4                           NaN                             2.000000   \n",
       "...                         ...                                  ...   \n",
       "799558                      NaN                             3.000000   \n",
       "799559                      NaN                             2.666667   \n",
       "799560                      NaN                             3.000000   \n",
       "799561                      NaN                             1.714286   \n",
       "799562                      NaN                             4.000000   \n",
       "\n",
       "        MAX(pos_cash.RISK_PROFILE)  MAX(pos_cash.SK_DPD)  ...  \\\n",
       "0                              1.0                   0.0  ...   \n",
       "1                              1.0                   0.0  ...   \n",
       "2                              1.0                  12.0  ...   \n",
       "3                              1.0                   0.0  ...   \n",
       "4                              1.0                   0.0  ...   \n",
       "...                            ...                   ...  ...   \n",
       "799558                         1.0                   0.0  ...   \n",
       "799559                         1.0                   0.0  ...   \n",
       "799560                         1.0                   0.0  ...   \n",
       "799561                         1.0                   0.0  ...   \n",
       "799562                         1.0                   0.0  ...   \n",
       "\n",
       "        SUM(pos_cash.CNT_INSTALMENT)  SUM(pos_cash.CNT_INSTALMENT_FUTURE)  \\\n",
       "0                               35.0                                 20.0   \n",
       "1                               35.0                                 20.0   \n",
       "2                               90.0                                 54.0   \n",
       "3                              342.0                                171.0   \n",
       "4                              336.0                                315.0   \n",
       "...                              ...                                  ...   \n",
       "799558                         156.0                                 71.0   \n",
       "799559                          78.0                                 57.0   \n",
       "799560                          20.0                                 10.0   \n",
       "799561                         183.0                                177.0   \n",
       "799562                          75.0                                 69.0   \n",
       "\n",
       "        SUM(pos_cash.RATIO_DPD)  SUM(pos_cash.RATIO_Term_Payed_Left)  \\\n",
       "0                           0.0                             7.041252   \n",
       "1                           0.0                            10.678431   \n",
       "2                           1.0                            16.785714   \n",
       "3                           1.0                            58.519401   \n",
       "4                           0.0                             8.823814   \n",
       "...                         ...                                  ...   \n",
       "799558                      0.0                            16.492949   \n",
       "799559                      0.0                             8.901282   \n",
       "799560                      0.0                             7.800000   \n",
       "799561                      0.0                             4.997499   \n",
       "799562                      0.0                             7.243478   \n",
       "\n",
       "        SUM(pos_cash.RISK_PROFILE)  SUM(pos_cash.SK_DPD)  \\\n",
       "0                              6.0                   0.0   \n",
       "1                              6.0                   0.0   \n",
       "2                              9.0                  12.0   \n",
       "3                             19.0                   0.0   \n",
       "4                              7.0                   0.0   \n",
       "...                            ...                   ...   \n",
       "799558                        13.0                   0.0   \n",
       "799559                         7.0                   0.0   \n",
       "799560                         5.0                   0.0   \n",
       "799561                         4.0                   0.0   \n",
       "799562                         4.0                   0.0   \n",
       "\n",
       "        SUM(pos_cash.SK_DPD_DEF)  Duration  Cluster_pos_cash  TARGET  \n",
       "0                            0.0         5                 1       0  \n",
       "1                            0.0         5                 1       0  \n",
       "2                            0.0         8                 1       0  \n",
       "3                            0.0        18                 3       0  \n",
       "4                            0.0         6                 0       0  \n",
       "...                          ...       ...               ...     ...  \n",
       "799558                       0.0        12                 1       0  \n",
       "799559                       0.0         6                 1       0  \n",
       "799560                       0.0         4                 1       0  \n",
       "799561                       0.0         3                 3       0  \n",
       "799562                       0.0         3                 1       0  \n",
       "\n",
       "[799563 rows x 46 columns]"
      ]
     },
     "execution_count": 50,
     "metadata": {},
     "output_type": "execute_result"
    }
   ],
   "source": [
    "pos_cash_feature_matrix"
   ]
  },
  {
   "cell_type": "code",
   "execution_count": 55,
   "metadata": {},
   "outputs": [
    {
     "data": {
      "text/plain": [
       "TARGET  Cluster_pos_cash\n",
       "0       1                   51.616320\n",
       "        4                   22.101698\n",
       "        3                   14.099327\n",
       "        0                    4.545233\n",
       "1       1                    3.960288\n",
       "        4                    1.732947\n",
       "        3                    1.194027\n",
       "        0                    0.452747\n",
       "0       2                    0.268021\n",
       "1       2                    0.029391\n",
       "Name: count, dtype: float64"
      ]
     },
     "execution_count": 55,
     "metadata": {},
     "output_type": "execute_result"
    }
   ],
   "source": [
    "pos_cash_feature_matrix[['TARGET', 'Cluster_pos_cash',]].value_counts() / pos_cash_feature_matrix['TARGET'].count() * 100"
   ]
  },
  {
   "cell_type": "code",
   "execution_count": 53,
   "metadata": {},
   "outputs": [
    {
     "data": {
      "image/png": "[encoded data removed]",
      "text/plain": [
       "<Figure size 640x480 with 1 Axes>"
      ]
     },
     "metadata": {},
     "output_type": "display_data"
    }
   ],
   "source": [
    "sns.countplot(data=pos_cash_feature_matrix, x='Cluster_pos_cash', hue='TARGET')\n",
    "plt.show()"
   ]
  },
  {
   "cell_type": "code",
   "execution_count": 52,
   "metadata": {},
   "outputs": [
    {
     "data": {
      "image/png": "[encoded data removed]",
      "text/plain": [
       "<Figure size 640x480 with 1 Axes>"
      ]
     },
     "metadata": {},
     "output_type": "display_data"
    }
   ],
   "source": [
    "sns.scatterplot(data=pos_cash_feature_matrix, x='Cluster_pos_cash', y='TARGET')\n",
    "plt.show()"
   ]
  },
  {
   "cell_type": "markdown",
   "metadata": {},
   "source": [
    "## Filtered features"
   ]
  },
  {
   "cell_type": "code",
   "execution_count": 14,
   "metadata": {},
   "outputs": [],
   "source": [
    "sorted_pos_cash_feature_matrix = app_pos_cash_feature_matrix[\n",
    "    ['SK_ID_PREV', 'SK_ID_CURR'] + \n",
    "    \n",
    "    feature_importance.head(10)['feature'].to_list()]"
   ]
  },
  {
   "cell_type": "code",
   "execution_count": 16,
   "metadata": {},
   "outputs": [
    {
     "data": {
      "image/png": "[encoded data removed]",
      "text/plain": [
       "<Figure size 1600x800 with 2 Axes>"
      ]
     },
     "metadata": {},
     "output_type": "display_data"
    }
   ],
   "source": [
    "# Convert Pandas DataFrame to Polars DataFrame\n",
    "polars_df = pl.from_pandas(sorted_pos_cash_feature_matrix.drop(columns=['SK_ID_PREV', 'SK_ID_CURR']).sample(20000, random_state=42).fillna(-1))\n",
    "\n",
    "# Convert Polars DataFrame to a numpy array for K-means\n",
    "X = polars_df.to_numpy()\n",
    "\n",
    "# Standardize the features\n",
    "scaler = StandardScaler()\n",
    "X_scaled = scaler.fit_transform(X)\n",
    "\n",
    "# Elbow Method\n",
    "inertia = []\n",
    "silhouette_scores = []\n",
    "K = range(2, 10)\n",
    "\n",
    "for k in K:\n",
    "    kmeans = KMeans(n_clusters=k, random_state=42)\n",
    "    kmeans.fit(X_scaled)\n",
    "    inertia.append(kmeans.inertia_)\n",
    "    silhouette_scores.append(silhouette_score(X_scaled, kmeans.labels_))\n",
    "\n",
    "# Plot the Elbow\n",
    "plt.figure(figsize=(16, 8))\n",
    "plt.subplot(1, 2, 1)\n",
    "plt.plot(K, inertia, 'bx-')\n",
    "plt.xlabel('Number of clusters')\n",
    "plt.ylabel('Inertia')\n",
    "plt.title('Elbow Method for Optimal k')\n",
    "\n",
    "# Plot the Silhouette Scores\n",
    "plt.subplot(1, 2, 2)\n",
    "plt.plot(K, silhouette_scores, 'bx-')\n",
    "plt.xlabel('Number of clusters')\n",
    "plt.ylabel('Silhouette Score')\n",
    "plt.title('Silhouette Score for Optimal k')\n",
    "\n",
    "plt.show()"
   ]
  },
  {
   "cell_type": "code",
   "execution_count": 17,
   "metadata": {},
   "outputs": [
    {
     "data": {
      "image/png": "[encoded data removed]",
      "text/plain": [
       "<Figure size 1000x600 with 2 Axes>"
      ]
     },
     "metadata": {},
     "output_type": "display_data"
    }
   ],
   "source": [
    "polars_df = pl.from_pandas(app_pos_cash_feature_matrix.drop(columns=['SK_ID_PREV', 'SK_ID_CURR', 'TARGET']).fillna(-1))\n",
    "\n",
    "# Convert Polars DataFrame to a numpy array for K-means\n",
    "X = polars_df.to_numpy()\n",
    "\n",
    "# Standardize the features\n",
    "scaler = StandardScaler()\n",
    "X_scaled = scaler.fit_transform(X)\n",
    "\n",
    "n_clusters = 6\n",
    "kmeans = KMeans(n_clusters=n_clusters, random_state=42)\n",
    "\n",
    "# Fit the model to the data\n",
    "kmeans.fit(X_scaled)\n",
    "\n",
    "# Extract cluster labels\n",
    "labels = kmeans.labels_\n",
    "\n",
    "# Add cluster labels to the Polars DataFrame\n",
    "polars_df = polars_df.with_columns(pl.Series(name=\"cluster\", values=labels))\n",
    "\n",
    "# print(polars_df)\n",
    "\n",
    "# Visualize the clusters (if the data is 2D or can be reduced to 2D)\n",
    "plt.figure(figsize=(10, 6))\n",
    "plt.scatter(X_scaled[:, 0], X_scaled[:, 1], c=labels, cmap='viridis', s=50)\n",
    "plt.title('K-means Clustering')\n",
    "plt.colorbar()\n",
    "plt.xlabel('Feature 1 (scaled)')\n",
    "plt.ylabel('Feature 2 (scaled)')\n",
    "plt.show()"
   ]
  },
  {
   "cell_type": "code",
   "execution_count": 18,
   "metadata": {},
   "outputs": [
    {
     "data": {
      "text/html": [
       "<div><style>\n",
       ".dataframe > thead > tr,\n",
       ".dataframe > tbody > tr {\n",
       "  text-align: right;\n",
       "  white-space: pre-wrap;\n",
       "}\n",
       "</style>\n",
       "<small>shape: (5, 23)</small><table border=\"1\" class=\"dataframe\"><thead><tr><th>MAX(pos_cash.CARD_ACTIVITY)</th><th>MEAN(pos_cash.CARD_ACTIVITY)</th><th>MEAN(pos_cash.CNT_INSTALMENT_FUTURE)</th><th>MEAN(pos_cash.RATIO_Term_Payed_Left)</th><th>MEAN(pos_cash.RISK_PROFILE)</th><th>MEAN(pos_cash.SK_DPD)</th><th>MEAN(pos_cash.SK_DPD_DEF)</th><th>MIN(pos_cash.CARD_ACTIVITY)</th><th>MIN(pos_cash.CNT_INSTALMENT)</th><th>MIN(pos_cash.CNT_INSTALMENT_FUTURE)</th><th>MIN(pos_cash.RATIO_Term_Payed_Left)</th><th>MIN(pos_cash.RISK_PROFILE)</th><th>MIN(pos_cash.SK_DPD)</th><th>MIN(pos_cash.SK_DPD_DEF)</th><th>STD(pos_cash.CNT_INSTALMENT)</th><th>STD(pos_cash.CNT_INSTALMENT_FUTURE)</th><th>STD(pos_cash.RATIO_DPD)</th><th>STD(pos_cash.RATIO_Term_Payed_Left)</th><th>STD(pos_cash.RISK_PROFILE)</th><th>SUM(pos_cash.CARD_ACTIVITY)</th><th>SUM(pos_cash.CNT_INSTALMENT)</th><th>SUM(pos_cash.RATIO_Term_Payed_Left)</th><th>cluster</th></tr><tr><td>f64</td><td>f64</td><td>f64</td><td>f64</td><td>f64</td><td>f64</td><td>f64</td><td>f64</td><td>f64</td><td>f64</td><td>f64</td><td>f64</td><td>f64</td><td>f64</td><td>f64</td><td>f64</td><td>f64</td><td>f64</td><td>f64</td><td>f64</td><td>f64</td><td>f64</td><td>i32</td></tr></thead><tbody><tr><td>2.0</td><td>1.041667</td><td>11.5</td><td>2.343044</td><td>1.0</td><td>0.0</td><td>0.0</td><td>1.0</td><td>24.0</td><td>0.0</td><td>1.0</td><td>1.0</td><td>0.0</td><td>0.0</td><td>0.0</td><td>7.071068</td><td>-1.0</td><td>1.446339</td><td>0.0</td><td>25.0</td><td>576.0</td><td>51.546968</td><td>0</td></tr><tr><td>2.0</td><td>1.125</td><td>3.25</td><td>1.611905</td><td>1.0</td><td>0.0</td><td>0.0</td><td>1.0</td><td>6.0</td><td>0.0</td><td>1.2</td><td>1.0</td><td>0.0</td><td>0.0</td><td>0.0</td><td>2.434866</td><td>-1.0</td><td>0.440193</td><td>0.0</td><td>9.0</td><td>48.0</td><td>11.283333</td><td>2</td></tr><tr><td>2.0</td><td>1.071429</td><td>5.857143</td><td>3.889229</td><td>1.0</td><td>0.0</td><td>0.0</td><td>1.0</td><td>12.0</td><td>0.0</td><td>1.0</td><td>1.0</td><td>0.0</td><td>0.0</td><td>0.0</td><td>4.32981</td><td>-1.0</td><td>6.297782</td><td>0.0</td><td>15.0</td><td>168.0</td><td>50.559978</td><td>2</td></tr><tr><td>2.0</td><td>1.076923</td><td>6.0</td><td>2.644896</td><td>1.0</td><td>0.0</td><td>0.0</td><td>1.0</td><td>12.0</td><td>0.0</td><td>1.0</td><td>1.0</td><td>0.0</td><td>0.0</td><td>0.0</td><td>3.89444</td><td>-1.0</td><td>2.575822</td><td>0.0</td><td>14.0</td><td>156.0</td><td>23.804067</td><td>2</td></tr><tr><td>2.0</td><td>1.142857</td><td>3.0</td><td>1.665227</td><td>1.0</td><td>0.0</td><td>0.0</td><td>1.0</td><td>6.0</td><td>0.0</td><td>1.058824</td><td>1.0</td><td>0.0</td><td>0.0</td><td>0.0</td><td>2.160247</td><td>-1.0</td><td>0.691741</td><td>0.0</td><td>8.0</td><td>42.0</td><td>9.991363</td><td>2</td></tr></tbody></table></div>"
      ],
      "text/plain": [
       "shape: (5, 23)\n",
       "┌────────────┬───────────┬───────────┬───────────┬───┬───────────┬───────────┬───────────┬─────────┐\n",
       "│ MAX(pos_ca ┆ MEAN(pos_ ┆ MEAN(pos_ ┆ MEAN(pos_ ┆ … ┆ SUM(pos_c ┆ SUM(pos_c ┆ SUM(pos_c ┆ cluster │\n",
       "│ sh.CARD_AC ┆ cash.CARD ┆ cash.CNT_ ┆ cash.RATI ┆   ┆ ash.CARD_ ┆ ash.CNT_I ┆ ash.RATIO ┆ ---     │\n",
       "│ TIVITY)    ┆ _ACTIVITY ┆ INSTALMEN ┆ O_Term_Pa ┆   ┆ ACTIVITY) ┆ NSTALMENT ┆ _Term_Pay ┆ i32     │\n",
       "│ ---        ┆ )         ┆ T_F…      ┆ yed…      ┆   ┆ ---       ┆ )         ┆ ed_…      ┆         │\n",
       "│ f64        ┆ ---       ┆ ---       ┆ ---       ┆   ┆ f64       ┆ ---       ┆ ---       ┆         │\n",
       "│            ┆ f64       ┆ f64       ┆ f64       ┆   ┆           ┆ f64       ┆ f64       ┆         │\n",
       "╞════════════╪═══════════╪═══════════╪═══════════╪═══╪═══════════╪═══════════╪═══════════╪═════════╡\n",
       "│ 2.0        ┆ 1.041667  ┆ 11.5      ┆ 2.343044  ┆ … ┆ 25.0      ┆ 576.0     ┆ 51.546968 ┆ 0       │\n",
       "│ 2.0        ┆ 1.125     ┆ 3.25      ┆ 1.611905  ┆ … ┆ 9.0       ┆ 48.0      ┆ 11.283333 ┆ 2       │\n",
       "│ 2.0        ┆ 1.071429  ┆ 5.857143  ┆ 3.889229  ┆ … ┆ 15.0      ┆ 168.0     ┆ 50.559978 ┆ 2       │\n",
       "│ 2.0        ┆ 1.076923  ┆ 6.0       ┆ 2.644896  ┆ … ┆ 14.0      ┆ 156.0     ┆ 23.804067 ┆ 2       │\n",
       "│ 2.0        ┆ 1.142857  ┆ 3.0       ┆ 1.665227  ┆ … ┆ 8.0       ┆ 42.0      ┆ 9.991363  ┆ 2       │\n",
       "└────────────┴───────────┴───────────┴───────────┴───┴───────────┴───────────┴───────────┴─────────┘"
      ]
     },
     "execution_count": 18,
     "metadata": {},
     "output_type": "execute_result"
    }
   ],
   "source": [
    "polars_df.head()"
   ]
  },
  {
   "cell_type": "code",
   "execution_count": 19,
   "metadata": {},
   "outputs": [
    {
     "data": {
      "text/plain": [
       "(799563, 25)"
      ]
     },
     "execution_count": 19,
     "metadata": {},
     "output_type": "execute_result"
    }
   ],
   "source": [
    "app_pos_cash_feature_matrix.shape"
   ]
  },
  {
   "cell_type": "code",
   "execution_count": 20,
   "metadata": {},
   "outputs": [
    {
     "data": {
      "text/plain": [
       "(799563, 23)"
      ]
     },
     "execution_count": 20,
     "metadata": {},
     "output_type": "execute_result"
    }
   ],
   "source": [
    "polars_df.shape"
   ]
  },
  {
   "cell_type": "code",
   "execution_count": 29,
   "metadata": {},
   "outputs": [],
   "source": [
    "app_pos_cash_feature_matrix['Cluster_pos_cash'] = polars_df.to_pandas()['cluster']"
   ]
  },
  {
   "cell_type": "code",
   "execution_count": 31,
   "metadata": {},
   "outputs": [
    {
     "data": {
      "text/html": [
       "<div>\n",
       "<style scoped>\n",
       "    .dataframe tbody tr th:only-of-type {\n",
       "        vertical-align: middle;\n",
       "    }\n",
       "\n",
       "    .dataframe tbody tr th {\n",
       "        vertical-align: top;\n",
       "    }\n",
       "\n",
       "    .dataframe thead th {\n",
       "        text-align: right;\n",
       "    }\n",
       "</style>\n",
       "<table border=\"1\" class=\"dataframe\">\n",
       "  <thead>\n",
       "    <tr style=\"text-align: right;\">\n",
       "      <th></th>\n",
       "      <th>SK_ID_PREV</th>\n",
       "      <th>SK_ID_CURR</th>\n",
       "      <th>MEAN(pos_cash.CNT_INSTALMENT_FUTURE)</th>\n",
       "      <th>MEAN(pos_cash.RATIO_Term_Payed_Left)</th>\n",
       "      <th>STD(pos_cash.RATIO_Term_Payed_Left)</th>\n",
       "      <th>SUM(pos_cash.RATIO_Term_Payed_Left)</th>\n",
       "      <th>SUM(pos_cash.CNT_INSTALMENT)</th>\n",
       "      <th>MEAN(pos_cash.SK_DPD)</th>\n",
       "      <th>MIN(pos_cash.RATIO_Term_Payed_Left)</th>\n",
       "      <th>STD(pos_cash.CNT_INSTALMENT)</th>\n",
       "      <th>STD(pos_cash.CNT_INSTALMENT_FUTURE)</th>\n",
       "      <th>MEAN(pos_cash.SK_DPD_DEF)</th>\n",
       "      <th>Cluster_pos_cash</th>\n",
       "    </tr>\n",
       "  </thead>\n",
       "  <tbody>\n",
       "    <tr>\n",
       "      <th>0</th>\n",
       "      <td>1591845</td>\n",
       "      <td>271486</td>\n",
       "      <td>11.500000</td>\n",
       "      <td>2.343044</td>\n",
       "      <td>1.446339</td>\n",
       "      <td>51.546968</td>\n",
       "      <td>576.0</td>\n",
       "      <td>0.0</td>\n",
       "      <td>1.000000</td>\n",
       "      <td>0.0</td>\n",
       "      <td>7.071068</td>\n",
       "      <td>0.0</td>\n",
       "      <td>0</td>\n",
       "    </tr>\n",
       "    <tr>\n",
       "      <th>1</th>\n",
       "      <td>1362564</td>\n",
       "      <td>184278</td>\n",
       "      <td>3.250000</td>\n",
       "      <td>1.611905</td>\n",
       "      <td>0.440193</td>\n",
       "      <td>11.283333</td>\n",
       "      <td>48.0</td>\n",
       "      <td>0.0</td>\n",
       "      <td>1.200000</td>\n",
       "      <td>0.0</td>\n",
       "      <td>2.434866</td>\n",
       "      <td>0.0</td>\n",
       "      <td>2</td>\n",
       "    </tr>\n",
       "    <tr>\n",
       "      <th>2</th>\n",
       "      <td>1685176</td>\n",
       "      <td>173289</td>\n",
       "      <td>5.857143</td>\n",
       "      <td>3.889229</td>\n",
       "      <td>6.297782</td>\n",
       "      <td>50.559978</td>\n",
       "      <td>168.0</td>\n",
       "      <td>0.0</td>\n",
       "      <td>1.000000</td>\n",
       "      <td>0.0</td>\n",
       "      <td>4.329810</td>\n",
       "      <td>0.0</td>\n",
       "      <td>2</td>\n",
       "    </tr>\n",
       "    <tr>\n",
       "      <th>3</th>\n",
       "      <td>1824086</td>\n",
       "      <td>115626</td>\n",
       "      <td>6.000000</td>\n",
       "      <td>2.644896</td>\n",
       "      <td>2.575822</td>\n",
       "      <td>23.804067</td>\n",
       "      <td>156.0</td>\n",
       "      <td>0.0</td>\n",
       "      <td>1.000000</td>\n",
       "      <td>0.0</td>\n",
       "      <td>3.894440</td>\n",
       "      <td>0.0</td>\n",
       "      <td>2</td>\n",
       "    </tr>\n",
       "    <tr>\n",
       "      <th>4</th>\n",
       "      <td>2589449</td>\n",
       "      <td>319980</td>\n",
       "      <td>3.000000</td>\n",
       "      <td>1.665227</td>\n",
       "      <td>0.691741</td>\n",
       "      <td>9.991363</td>\n",
       "      <td>42.0</td>\n",
       "      <td>0.0</td>\n",
       "      <td>1.058824</td>\n",
       "      <td>0.0</td>\n",
       "      <td>2.160247</td>\n",
       "      <td>0.0</td>\n",
       "      <td>2</td>\n",
       "    </tr>\n",
       "  </tbody>\n",
       "</table>\n",
       "</div>"
      ],
      "text/plain": [
       "   SK_ID_PREV  SK_ID_CURR  MEAN(pos_cash.CNT_INSTALMENT_FUTURE)  \\\n",
       "0     1591845      271486                             11.500000   \n",
       "1     1362564      184278                              3.250000   \n",
       "2     1685176      173289                              5.857143   \n",
       "3     1824086      115626                              6.000000   \n",
       "4     2589449      319980                              3.000000   \n",
       "\n",
       "   MEAN(pos_cash.RATIO_Term_Payed_Left)  STD(pos_cash.RATIO_Term_Payed_Left)  \\\n",
       "0                              2.343044                             1.446339   \n",
       "1                              1.611905                             0.440193   \n",
       "2                              3.889229                             6.297782   \n",
       "3                              2.644896                             2.575822   \n",
       "4                              1.665227                             0.691741   \n",
       "\n",
       "   SUM(pos_cash.RATIO_Term_Payed_Left)  SUM(pos_cash.CNT_INSTALMENT)  \\\n",
       "0                            51.546968                         576.0   \n",
       "1                            11.283333                          48.0   \n",
       "2                            50.559978                         168.0   \n",
       "3                            23.804067                         156.0   \n",
       "4                             9.991363                          42.0   \n",
       "\n",
       "   MEAN(pos_cash.SK_DPD)  MIN(pos_cash.RATIO_Term_Payed_Left)  \\\n",
       "0                    0.0                             1.000000   \n",
       "1                    0.0                             1.200000   \n",
       "2                    0.0                             1.000000   \n",
       "3                    0.0                             1.000000   \n",
       "4                    0.0                             1.058824   \n",
       "\n",
       "   STD(pos_cash.CNT_INSTALMENT)  STD(pos_cash.CNT_INSTALMENT_FUTURE)  \\\n",
       "0                           0.0                             7.071068   \n",
       "1                           0.0                             2.434866   \n",
       "2                           0.0                             4.329810   \n",
       "3                           0.0                             3.894440   \n",
       "4                           0.0                             2.160247   \n",
       "\n",
       "   MEAN(pos_cash.SK_DPD_DEF)  Cluster_pos_cash  \n",
       "0                        0.0                 0  \n",
       "1                        0.0                 2  \n",
       "2                        0.0                 2  \n",
       "3                        0.0                 2  \n",
       "4                        0.0                 2  "
      ]
     },
     "execution_count": 31,
     "metadata": {},
     "output_type": "execute_result"
    }
   ],
   "source": [
    "sorted_pos_cash_feature_matrix.head()"
   ]
  },
  {
   "cell_type": "code",
   "execution_count": 34,
   "metadata": {},
   "outputs": [
    {
     "data": {
      "image/png": "[encoded data removed]",
      "text/plain": [
       "<Figure size 640x480 with 1 Axes>"
      ]
     },
     "metadata": {},
     "output_type": "display_data"
    }
   ],
   "source": [
    "sns.barplot(data=app_pos_cash_feature_matrix, x='Cluster_pos_cash', hue='TARGET')\n",
    "plt.show()"
   ]
  },
  {
   "cell_type": "markdown",
   "metadata": {},
   "source": [
    "## Exporting"
   ]
  },
  {
   "cell_type": "code",
   "execution_count": 34,
   "metadata": {},
   "outputs": [],
   "source": [
    "sorted_pos_cash_feature_matrix = pos_cash_feature_matrix[['SK_ID_PREV', 'SK_ID_CURR'] + feature_importance.head(10)['feature'].to_list()]\n",
    "sorted_pos_cash_feature_matrix.to_csv(r'Archive\\home-credit-default-risk\\sorted_pos_cash_feature_matrix.csv')"
   ]
  },
  {
   "cell_type": "code",
   "execution_count": 35,
   "metadata": {},
   "outputs": [],
   "source": [
    "# feature_importance[['Operation', 'Original_Feature']] = feature_importance['feature'].str.split('(', n=2, expand=True)\n",
    "\n",
    "# feature_importance['Original_Feature'] = feature_importance['Original_Feature'].str.rstrip(')')\n",
    "# feature_importance['Operation'] = feature_importance['Operation'].str.rstrip('(')\n",
    "\n",
    "\n",
    "# feature_to_drop = duckdb.query(\"\"\" \n",
    "# SELECT Feature\n",
    "# FROM (\n",
    "#     SELECT \n",
    "#         *,\n",
    "#         ROW_NUMBER() OVER (PARTITION BY Original_Feature ORDER BY Importance DESC) AS RowNumber\n",
    "#     FROM feature_importance\n",
    "#     WHERE Operation != 'STD' AND feature!='Duration'\n",
    "#     ) A \n",
    "#     WHERE RowNumber != 1\n",
    "# \"\"\" ).to_df()"
   ]
  },
  {
   "cell_type": "markdown",
   "metadata": {},
   "source": [
    "# Installments Payments"
   ]
  },
  {
   "cell_type": "code",
   "execution_count": 36,
   "metadata": {},
   "outputs": [],
   "source": [
    "installments_payments = help_tool.csv_download(r'Archive\\home-credit-default-risk\\installments_payments.csv')\n",
    "#help_tool.first_look(installments_payments)"
   ]
  },
  {
   "cell_type": "markdown",
   "metadata": {},
   "source": [
    "## Null values\n",
    "Null values take less than 0%, 2905 rows. Payment day (DAYS_ENTRY_PAYMENT) is missing when payment amount is missing."
   ]
  },
  {
   "cell_type": "code",
   "execution_count": 37,
   "metadata": {},
   "outputs": [
    {
     "data": {
      "text/plain": [
       "(0, 8)"
      ]
     },
     "execution_count": 37,
     "metadata": {},
     "output_type": "execute_result"
    }
   ],
   "source": [
    "installments_payments[installments_payments['DAYS_ENTRY_PAYMENT'].isnull() & installments_payments['AMT_PAYMENT'].notna()].shape"
   ]
  },
  {
   "cell_type": "markdown",
   "metadata": {},
   "source": [
    "Missing values are safe to drop, as the SK_ID_CURR can be found in non missing rows."
   ]
  },
  {
   "cell_type": "code",
   "execution_count": 38,
   "metadata": {},
   "outputs": [
    {
     "data": {
      "text/plain": [
       "(0, 2)"
      ]
     },
     "execution_count": 38,
     "metadata": {},
     "output_type": "execute_result"
    }
   ],
   "source": [
    "duckdb.query(\"\"\"\n",
    "             WITH \n",
    "             empty AS (\n",
    "             SELECT DISTINCT SK_ID_CURR FROM installments_payments\n",
    "             WHERE DAYS_ENTRY_PAYMENT IS NULL\n",
    "             )\n",
    "\n",
    "             ,not_empty AS (\n",
    "             SELECT DISTINCT SK_ID_CURR FROM installments_payments\n",
    "             WHERE DAYS_ENTRY_PAYMENT IS NOT NULL\n",
    "             )\n",
    "\n",
    "             SELECT *\n",
    "             FROM empty\n",
    "             LEFT JOIN not_empty\n",
    "             ON empty.SK_ID_CURR = not_empty.SK_ID_CURR\n",
    "             WHERE empty.SK_ID_CURR IS NULL\n",
    "             \"\"\").to_df().shape"
   ]
  },
  {
   "cell_type": "code",
   "execution_count": 39,
   "metadata": {},
   "outputs": [],
   "source": [
    "installments_payments = installments_payments[installments_payments['DAYS_ENTRY_PAYMENT'].notna() & installments_payments['AMT_PAYMENT'].notna()]"
   ]
  },
  {
   "cell_type": "markdown",
   "metadata": {},
   "source": [
    "## EDA"
   ]
  },
  {
   "cell_type": "code",
   "execution_count": 40,
   "metadata": {},
   "outputs": [],
   "source": [
    "# sns.scatterplot(data=installments_payments.sample(100000, random_state=42), x='AMT_PAYMENT', y='AMT_INSTALMENT')\n",
    "# plt.show()"
   ]
  },
  {
   "cell_type": "code",
   "execution_count": 41,
   "metadata": {},
   "outputs": [],
   "source": [
    "# sns.scatterplot(data=installments_payments.sample(100000, random_state=42), x='DAYS_INSTALMENT', y='DAYS_ENTRY_PAYMENT')\n",
    "# plt.show()"
   ]
  },
  {
   "cell_type": "code",
   "execution_count": 42,
   "metadata": {},
   "outputs": [],
   "source": [
    "# sns.scatterplot(data=installments_payments.sample(100000, random_state=42), x='NUM_INSTALMENT_VERSION', y='NUM_INSTALMENT_NUMBER')\n",
    "# plt.show()"
   ]
  },
  {
   "cell_type": "markdown",
   "metadata": {},
   "source": [
    "## Feature Engineering"
   ]
  },
  {
   "cell_type": "code",
   "execution_count": 43,
   "metadata": {},
   "outputs": [],
   "source": [
    "installments_payments[['MISSED_DEADLINE_DAYS', 'MISSED_AMT_PAYMENT', 'CHANGE_INSTALMENT_NUMBER']] = duckdb.query(\"\"\"\n",
    "        SELECT \n",
    "            CAST((CAST(DAYS_ENTRY_PAYMENT AS INT) - CAST(DAYS_INSTALMENT AS INT)) AS INT) AS MISSED_DEADLINE_DAYS,\n",
    "            CAST((CAST(AMT_PAYMENT AS INT) - CAST(AMT_INSTALMENT AS INT)) AS INT) AS MISSED_AMT_PAYMENT,\n",
    "            CAST((CAST(NUM_INSTALMENT_VERSION AS INT) - CAST(NUM_INSTALMENT_NUMBER AS INT)) AS INT) AS CHANGE_INSTALMENT_NUMBER                                                                                  \n",
    "        FROM installments_payments \n",
    "\"\"\").to_df()"
   ]
  },
  {
   "cell_type": "markdown",
   "metadata": {},
   "source": [
    "## Previous Application and installments_payments"
   ]
  },
  {
   "cell_type": "code",
   "execution_count": 44,
   "metadata": {},
   "outputs": [],
   "source": [
    "installments_payments_simplified = installments_payments[['SK_ID_PREV', 'SK_ID_CURR']].drop_duplicates().reset_index(drop=True)"
   ]
  },
  {
   "cell_type": "code",
   "execution_count": 45,
   "metadata": {},
   "outputs": [
    {
     "name": "stderr",
     "output_type": "stream",
     "text": [
      "c:\\Users\\Gintare\\anaconda3\\envs\\model_env\\Lib\\site-packages\\featuretools\\computational_backends\\feature_set_calculator.py:785: FutureWarning: The provided callable <function mean at 0x0000014F98C2EFC0> is currently using SeriesGroupBy.mean. In a future version of pandas, the provided callable will be used directly. To keep current behavior pass the string \"mean\" instead.\n",
      "  ).agg(to_agg)\n",
      "c:\\Users\\Gintare\\anaconda3\\envs\\model_env\\Lib\\site-packages\\featuretools\\computational_backends\\feature_set_calculator.py:785: FutureWarning: The provided callable <function std at 0x0000014F98C2F100> is currently using SeriesGroupBy.std. In a future version of pandas, the provided callable will be used directly. To keep current behavior pass the string \"std\" instead.\n",
      "  ).agg(to_agg)\n",
      "c:\\Users\\Gintare\\anaconda3\\envs\\model_env\\Lib\\site-packages\\featuretools\\computational_backends\\feature_set_calculator.py:785: FutureWarning: The provided callable <function max at 0x0000014F98C2E5C0> is currently using SeriesGroupBy.max. In a future version of pandas, the provided callable will be used directly. To keep current behavior pass the string \"max\" instead.\n",
      "  ).agg(to_agg)\n",
      "c:\\Users\\Gintare\\anaconda3\\envs\\model_env\\Lib\\site-packages\\featuretools\\computational_backends\\feature_set_calculator.py:785: FutureWarning: The provided callable <function sum at 0x0000014F98C2DEE0> is currently using SeriesGroupBy.sum. In a future version of pandas, the provided callable will be used directly. To keep current behavior pass the string \"sum\" instead.\n",
      "  ).agg(to_agg)\n",
      "c:\\Users\\Gintare\\anaconda3\\envs\\model_env\\Lib\\site-packages\\featuretools\\computational_backends\\feature_set_calculator.py:785: FutureWarning: The provided callable <function min at 0x0000014F98C2E700> is currently using SeriesGroupBy.min. In a future version of pandas, the provided callable will be used directly. To keep current behavior pass the string \"min\" instead.\n",
      "  ).agg(to_agg)\n"
     ]
    },
    {
     "data": {
      "text/plain": [
       "(997674, 38)"
      ]
     },
     "execution_count": 45,
     "metadata": {},
     "output_type": "execute_result"
    }
   ],
   "source": [
    "es = ft.EntitySet(id='installments_payments_data')\n",
    "\n",
    "es = es.add_dataframe(dataframe_name='installments_payments_simplified',\n",
    "                      dataframe=installments_payments_simplified,\n",
    "                      index='SK_ID_PREV')\n",
    "\n",
    "es = es.add_dataframe(dataframe_name='installments_payments',\n",
    "                      dataframe=installments_payments.drop(columns=['DAYS_ENTRY_PAYMENT', 'DAYS_INSTALMENT', 'SK_ID_CURR']),\n",
    "                      make_index=True,\n",
    "                      index='index')\n",
    "\n",
    "es = es.add_relationship(parent_dataframe_name='installments_payments_simplified',\n",
    "                         parent_column_name='SK_ID_PREV',\n",
    "                         child_dataframe_name='installments_payments',\n",
    "                         child_column_name='SK_ID_PREV')\n",
    "\n",
    "installments_payments_feature_matrix, feature_defs = ft.dfs(entityset=es,\n",
    "                                      target_dataframe_name='installments_payments_simplified',\n",
    "                                      agg_primitives=['mean', 'sum', 'count', 'std', 'max', 'min']\n",
    "                                      )\n",
    "\n",
    "\n",
    "installments_payments_feature_matrix = installments_payments_feature_matrix.reset_index()\n",
    "installments_payments_feature_matrix.shape"
   ]
  },
  {
   "cell_type": "code",
   "execution_count": 46,
   "metadata": {},
   "outputs": [
    {
     "data": {
      "application/vnd.jupyter.widget-view+json": {
       "model_id": "882165f88c08462a8367eb7a176953b6",
       "version_major": 2,
       "version_minor": 0
      },
      "text/plain": [
       "FloatProgress(value=0.0, layout=Layout(width='auto'), style=ProgressStyle(bar_color='black'))"
      ]
     },
     "metadata": {},
     "output_type": "display_data"
    }
   ],
   "source": [
    "installments_payments_feature_matrix = duckdb.query(\"\"\"  \n",
    "  SELECT A.*, B.Duration\n",
    "  FROM installments_payments_feature_matrix A \n",
    "  LEFT JOIN (\n",
    "    SELECT SK_ID_PREV, MAX(DAYS_INSTALMENT) - MIN(DAYS_INSTALMENT) AS Duration\n",
    "    FROM installments_payments\n",
    "    GROUP BY SK_ID_PREV\n",
    "    ) B ON A.SK_ID_PREV = B.SK_ID_PREV\n",
    "  \"\"\").to_df()"
   ]
  },
  {
   "cell_type": "code",
   "execution_count": 47,
   "metadata": {},
   "outputs": [],
   "source": [
    "installments_payments_feature_matrix.drop(\n",
    "    columns= help_tool.zero_variance_features(installments_payments_feature_matrix), \n",
    "    inplace = True\n",
    "    )"
   ]
  },
  {
   "cell_type": "code",
   "execution_count": 48,
   "metadata": {},
   "outputs": [],
   "source": [
    "installments_payments_feature_matrix.to_csv(r'Archive\\home-credit-default-risk\\installments_payments_feature_matrix.csv')"
   ]
  },
  {
   "cell_type": "markdown",
   "metadata": {},
   "source": [
    "## Selecting featureswith Light XGB\n",
    "### 1st run"
   ]
  },
  {
   "cell_type": "code",
   "execution_count": 49,
   "metadata": {},
   "outputs": [],
   "source": [
    "app_installments_payments_feature_matrix = duckdb.query(\"\"\"  \n",
    "    SELECT A.*, B.TARGET\n",
    "    FROM installments_payments_feature_matrix A\n",
    "    INNER JOIN application_train B\n",
    "    ON A.SK_ID_CURR = B.SK_ID_CURR\n",
    "  \"\"\").to_df()"
   ]
  },
  {
   "cell_type": "markdown",
   "metadata": {},
   "source": [
    "7% of target is positive"
   ]
  },
  {
   "cell_type": "code",
   "execution_count": 50,
   "metadata": {},
   "outputs": [
    {
     "data": {
      "text/plain": [
       "TARGET\n",
       "0    0.924404\n",
       "1    0.075596\n",
       "Name: count, dtype: float64"
      ]
     },
     "execution_count": 50,
     "metadata": {},
     "output_type": "execute_result"
    }
   ],
   "source": [
    "app_installments_payments_feature_matrix['TARGET'].value_counts() / app_installments_payments_feature_matrix['TARGET'].count()"
   ]
  },
  {
   "cell_type": "code",
   "execution_count": 51,
   "metadata": {},
   "outputs": [],
   "source": [
    "y = app_installments_payments_feature_matrix['TARGET']\n",
    "X = app_installments_payments_feature_matrix.drop(columns=['TARGET', 'SK_ID_CURR'])\n",
    "\n",
    "# Split the dataset into training and testing sets\n",
    "X_train, X_test, y_train, y_test = train_test_split(X, y, test_size=0.2, random_state=42)\n",
    "\n",
    "# Set the parameters for the LightGBM model\n",
    "params = {\n",
    "    'objective': 'binary',\n",
    "    'metric': 'binary_logloss',\n",
    "    'boosting_type': 'gbdt',\n",
    "    'num_leaves': 31,\n",
    "    'learning_rate': 0.05,\n",
    "    'verbose': 0\n",
    "}\n",
    "\n",
    "# Train the model\n",
    "lgb_model = LGBMClassifier(**params, n_estimators=100)\n",
    "lgb_model.fit(X_train, y_train, eval_set=[(X_test, y_test)])\n",
    "\n",
    "# Get feature importances\n",
    "importance = lgb_model.feature_importances_\n",
    "feature_importance = pd.DataFrame({\n",
    "    'feature': X.columns,\n",
    "    'importance': importance\n",
    "})\n",
    "\n",
    "# Sort features by importance\n",
    "feature_importance = feature_importance.sort_values(by='importance', ascending=False)"
   ]
  },
  {
   "cell_type": "code",
   "execution_count": 52,
   "metadata": {},
   "outputs": [],
   "source": [
    "def features_to_drop(df):\n",
    "    # Step 1: Drop unnecessary columns\n",
    "    filtered_matrix = df\n",
    "\n",
    "    # Step 2: Compute the correlation matrix\n",
    "    correlation_matrix = filtered_matrix.corr()\n",
    "\n",
    "    # Step 3: Identify pairs of features with correlation greater than 0.9\n",
    "    high_corr_pairs = correlation_matrix.unstack().sort_values(ascending=False)\n",
    "    high_corr_pairs = high_corr_pairs[(high_corr_pairs < 1.0) & (high_corr_pairs >= 0.9)]\n",
    "\n",
    "    # Convert the series to a DataFrame for better readability\n",
    "    high_corr_pairs_df = high_corr_pairs.reset_index()\n",
    "    high_corr_pairs_df.columns = ['Feature1', 'Feature2', 'Correlation']\n",
    "\n",
    "    # Step 4: Rank features based on feature importance\n",
    "    # Assuming feature_importance is a DataFrame with 'feature' and 'importance' columns\n",
    "    # Join importance values with the feature pairs\n",
    "    high_corr_pairs_df = high_corr_pairs_df.merge(\n",
    "        feature_importance, left_on='Feature1', right_on='feature').rename(columns={'importance': 'Importance1'})\n",
    "    high_corr_pairs_df = high_corr_pairs_df.merge(\n",
    "        feature_importance, left_on='Feature2', right_on='feature').rename(columns={'importance': 'Importance2'})\n",
    "\n",
    "    # Drop the extra 'feature' columns from the merges\n",
    "    high_corr_pairs_df = high_corr_pairs_df.drop(columns=['feature_x', 'feature_y'])\n",
    "\n",
    "    # Step 5: Determine which feature to drop based on lower importance\n",
    "    high_corr_pairs_df['Feature_to_Drop'] = np.where(\n",
    "        high_corr_pairs_df['Importance1'] < high_corr_pairs_df['Importance2'], \n",
    "        high_corr_pairs_df['Feature1'], \n",
    "        high_corr_pairs_df['Feature2']\n",
    "    )\n",
    "\n",
    "    # Identify unique features to drop\n",
    "    features_to_drop = high_corr_pairs_df['Feature_to_Drop'].unique()\n",
    "    return features_to_drop\n"
   ]
  },
  {
   "cell_type": "code",
   "execution_count": 53,
   "metadata": {},
   "outputs": [],
   "source": [
    "drop_list = features_to_drop(app_installments_payments_feature_matrix.drop(columns=['SK_ID_PREV', 'SK_ID_CURR']))"
   ]
  },
  {
   "cell_type": "code",
   "execution_count": 54,
   "metadata": {},
   "outputs": [],
   "source": [
    "app_installments_payments_feature_matrix.drop(columns=drop_list, inplace=True)"
   ]
  },
  {
   "cell_type": "markdown",
   "metadata": {},
   "source": [
    "### 2nd Run"
   ]
  },
  {
   "cell_type": "code",
   "execution_count": 55,
   "metadata": {},
   "outputs": [],
   "source": [
    "y = app_installments_payments_feature_matrix['TARGET']\n",
    "X = app_installments_payments_feature_matrix.drop(columns=['TARGET', 'SK_ID_CURR', 'SK_ID_PREV'])\n",
    "\n",
    "# Split the dataset into training and testing sets\n",
    "X_train, X_test, y_train, y_test = train_test_split(X, y, test_size=0.2, random_state=42)\n",
    "\n",
    "# Set the parameters for the LightGBM model\n",
    "params = {\n",
    "    'objective': 'binary',\n",
    "    'metric': 'binary_logloss',\n",
    "    'boosting_type': 'gbdt',\n",
    "    'num_leaves': 31,\n",
    "    'learning_rate': 0.05,\n",
    "    'verbose': 0\n",
    "}\n",
    "\n",
    "# Train the model\n",
    "lgb_model = LGBMClassifier(**params, n_estimators=100)\n",
    "lgb_model.fit(X_train, y_train, eval_set=[(X_test, y_test)])\n",
    "\n",
    "# Get feature importances\n",
    "importance = lgb_model.feature_importances_\n",
    "feature_importance = pd.DataFrame({\n",
    "    'feature': X.columns,\n",
    "    'importance': importance\n",
    "})\n",
    "\n",
    "# Sort features by importance\n",
    "feature_importance = feature_importance.sort_values(by='importance', ascending=False)"
   ]
  },
  {
   "cell_type": "code",
   "execution_count": 56,
   "metadata": {},
   "outputs": [],
   "source": [
    "# app_installments_payments_feature_matrix_filtered = app_installments_payments_feature_matrix[['SK_ID_PREV', 'TARGET'] + feature_importance.head(15)['feature'].to_list()]"
   ]
  },
  {
   "cell_type": "markdown",
   "metadata": {},
   "source": [
    "## Exporting"
   ]
  },
  {
   "cell_type": "code",
   "execution_count": 57,
   "metadata": {},
   "outputs": [],
   "source": [
    "sorted_installments_payments_feature_matrix = installments_payments_feature_matrix[['SK_ID_PREV', 'SK_ID_CURR'] + feature_importance.head(10)['feature'].to_list()]\n",
    "sorted_installments_payments_feature_matrix.to_csv(r'Archive\\home-credit-default-risk\\sorted_installments_payments_feature_matrix.csv')"
   ]
  },
  {
   "cell_type": "markdown",
   "metadata": {},
   "source": [
    "# Credit_Card_Balance"
   ]
  },
  {
   "cell_type": "code",
   "execution_count": 58,
   "metadata": {},
   "outputs": [],
   "source": [
    "credit_card_balance = help_tool.csv_download(r'Archive\\home-credit-default-risk\\credit_card_balance.csv')\n",
    "#help_tool.first_look(credit_card_balance)"
   ]
  },
  {
   "cell_type": "markdown",
   "metadata": {},
   "source": [
    "## Null values\n",
    "AMT_DRAWINGS_ATM_CURRENT has the same NaN values as the rest of AMT_DRAWINGS columns. \n",
    "\n",
    "Drawing features for places have missing values, where the total amount is 0."
   ]
  },
  {
   "cell_type": "code",
   "execution_count": 59,
   "metadata": {},
   "outputs": [
    {
     "data": {
      "text/html": [
       "<div>\n",
       "<style scoped>\n",
       "    .dataframe tbody tr th:only-of-type {\n",
       "        vertical-align: middle;\n",
       "    }\n",
       "\n",
       "    .dataframe tbody tr th {\n",
       "        vertical-align: top;\n",
       "    }\n",
       "\n",
       "    .dataframe thead th {\n",
       "        text-align: right;\n",
       "    }\n",
       "</style>\n",
       "<table border=\"1\" class=\"dataframe\">\n",
       "  <thead>\n",
       "    <tr style=\"text-align: right;\">\n",
       "      <th></th>\n",
       "      <th>AMT_DRAWINGS_ATM_CURRENT</th>\n",
       "      <th>AMT_DRAWINGS_CURRENT</th>\n",
       "      <th>AMT_DRAWINGS_OTHER_CURRENT</th>\n",
       "      <th>AMT_DRAWINGS_POS_CURRENT</th>\n",
       "      <th>CNT_DRAWINGS_ATM_CURRENT</th>\n",
       "      <th>CNT_DRAWINGS_CURRENT</th>\n",
       "      <th>CNT_DRAWINGS_OTHER_CURRENT</th>\n",
       "      <th>CNT_DRAWINGS_POS_CURRENT</th>\n",
       "    </tr>\n",
       "  </thead>\n",
       "  <tbody>\n",
       "    <tr>\n",
       "      <th>count</th>\n",
       "      <td>0.0</td>\n",
       "      <td>749816.0</td>\n",
       "      <td>0.0</td>\n",
       "      <td>0.0</td>\n",
       "      <td>0.0</td>\n",
       "      <td>749816.0</td>\n",
       "      <td>0.0</td>\n",
       "      <td>0.0</td>\n",
       "    </tr>\n",
       "    <tr>\n",
       "      <th>mean</th>\n",
       "      <td>NaN</td>\n",
       "      <td>0.0</td>\n",
       "      <td>NaN</td>\n",
       "      <td>NaN</td>\n",
       "      <td>NaN</td>\n",
       "      <td>0.0</td>\n",
       "      <td>NaN</td>\n",
       "      <td>NaN</td>\n",
       "    </tr>\n",
       "    <tr>\n",
       "      <th>std</th>\n",
       "      <td>NaN</td>\n",
       "      <td>0.0</td>\n",
       "      <td>NaN</td>\n",
       "      <td>NaN</td>\n",
       "      <td>NaN</td>\n",
       "      <td>0.0</td>\n",
       "      <td>NaN</td>\n",
       "      <td>NaN</td>\n",
       "    </tr>\n",
       "    <tr>\n",
       "      <th>min</th>\n",
       "      <td>NaN</td>\n",
       "      <td>0.0</td>\n",
       "      <td>NaN</td>\n",
       "      <td>NaN</td>\n",
       "      <td>NaN</td>\n",
       "      <td>0.0</td>\n",
       "      <td>NaN</td>\n",
       "      <td>NaN</td>\n",
       "    </tr>\n",
       "    <tr>\n",
       "      <th>25%</th>\n",
       "      <td>NaN</td>\n",
       "      <td>0.0</td>\n",
       "      <td>NaN</td>\n",
       "      <td>NaN</td>\n",
       "      <td>NaN</td>\n",
       "      <td>0.0</td>\n",
       "      <td>NaN</td>\n",
       "      <td>NaN</td>\n",
       "    </tr>\n",
       "    <tr>\n",
       "      <th>50%</th>\n",
       "      <td>NaN</td>\n",
       "      <td>0.0</td>\n",
       "      <td>NaN</td>\n",
       "      <td>NaN</td>\n",
       "      <td>NaN</td>\n",
       "      <td>0.0</td>\n",
       "      <td>NaN</td>\n",
       "      <td>NaN</td>\n",
       "    </tr>\n",
       "    <tr>\n",
       "      <th>75%</th>\n",
       "      <td>NaN</td>\n",
       "      <td>0.0</td>\n",
       "      <td>NaN</td>\n",
       "      <td>NaN</td>\n",
       "      <td>NaN</td>\n",
       "      <td>0.0</td>\n",
       "      <td>NaN</td>\n",
       "      <td>NaN</td>\n",
       "    </tr>\n",
       "    <tr>\n",
       "      <th>max</th>\n",
       "      <td>NaN</td>\n",
       "      <td>0.0</td>\n",
       "      <td>NaN</td>\n",
       "      <td>NaN</td>\n",
       "      <td>NaN</td>\n",
       "      <td>0.0</td>\n",
       "      <td>NaN</td>\n",
       "      <td>NaN</td>\n",
       "    </tr>\n",
       "  </tbody>\n",
       "</table>\n",
       "</div>"
      ],
      "text/plain": [
       "       AMT_DRAWINGS_ATM_CURRENT  AMT_DRAWINGS_CURRENT  \\\n",
       "count                       0.0              749816.0   \n",
       "mean                        NaN                   0.0   \n",
       "std                         NaN                   0.0   \n",
       "min                         NaN                   0.0   \n",
       "25%                         NaN                   0.0   \n",
       "50%                         NaN                   0.0   \n",
       "75%                         NaN                   0.0   \n",
       "max                         NaN                   0.0   \n",
       "\n",
       "       AMT_DRAWINGS_OTHER_CURRENT  AMT_DRAWINGS_POS_CURRENT  \\\n",
       "count                         0.0                       0.0   \n",
       "mean                          NaN                       NaN   \n",
       "std                           NaN                       NaN   \n",
       "min                           NaN                       NaN   \n",
       "25%                           NaN                       NaN   \n",
       "50%                           NaN                       NaN   \n",
       "75%                           NaN                       NaN   \n",
       "max                           NaN                       NaN   \n",
       "\n",
       "       CNT_DRAWINGS_ATM_CURRENT  CNT_DRAWINGS_CURRENT  \\\n",
       "count                       0.0              749816.0   \n",
       "mean                        NaN                   0.0   \n",
       "std                         NaN                   0.0   \n",
       "min                         NaN                   0.0   \n",
       "25%                         NaN                   0.0   \n",
       "50%                         NaN                   0.0   \n",
       "75%                         NaN                   0.0   \n",
       "max                         NaN                   0.0   \n",
       "\n",
       "       CNT_DRAWINGS_OTHER_CURRENT  CNT_DRAWINGS_POS_CURRENT  \n",
       "count                         0.0                       0.0  \n",
       "mean                          NaN                       NaN  \n",
       "std                           NaN                       NaN  \n",
       "min                           NaN                       NaN  \n",
       "25%                           NaN                       NaN  \n",
       "50%                           NaN                       NaN  \n",
       "75%                           NaN                       NaN  \n",
       "max                           NaN                       NaN  "
      ]
     },
     "execution_count": 59,
     "metadata": {},
     "output_type": "execute_result"
    }
   ],
   "source": [
    "credit_card_balance[credit_card_balance['AMT_DRAWINGS_ATM_CURRENT'].isna()].filter(regex='.*_DRAWINGS_', axis=1).describe()"
   ]
  },
  {
   "cell_type": "markdown",
   "metadata": {},
   "source": [
    "Features AMT_INST_MIN_REGULARITY and CNT_INSTALMENT_MATURE_CUM are depected as NaN when the account was recently activated."
   ]
  },
  {
   "cell_type": "code",
   "execution_count": 60,
   "metadata": {},
   "outputs": [
    {
     "data": {
      "text/plain": [
       "(0, 23)"
      ]
     },
     "execution_count": 60,
     "metadata": {},
     "output_type": "execute_result"
    }
   ],
   "source": [
    "credit_card_balance[credit_card_balance['AMT_INST_MIN_REGULARITY'].isna() & credit_card_balance['CNT_INSTALMENT_MATURE_CUM'].notna()].shape"
   ]
  },
  {
   "cell_type": "code",
   "execution_count": 61,
   "metadata": {},
   "outputs": [],
   "source": [
    "for feature in credit_card_balance.filter(regex='.*CURRENT', axis=1).columns.to_list():\n",
    "    credit_card_balance.loc[(credit_card_balance['AMT_DRAWINGS_CURRENT'] == 0) & credit_card_balance[feature].isna(), feature] = 0\n",
    "\n",
    "credit_card_balance.loc[(credit_card_balance['AMT_PAYMENT_TOTAL_CURRENT'] == 0) & credit_card_balance['AMT_PAYMENT_CURRENT'].isna(), 'AMT_PAYMENT_CURRENT'] = 0\n",
    "\n",
    "for feature in ['AMT_INST_MIN_REGULARITY', 'CNT_INSTALMENT_MATURE_CUM']:\n",
    "    credit_card_balance.loc[~credit_card_balance['NAME_CONTRACT_STATUS'].isin(['Demand', 'Active']) & credit_card_balance[feature].isna(), feature] = 0"
   ]
  },
  {
   "cell_type": "markdown",
   "metadata": {},
   "source": [
    "## EDA"
   ]
  },
  {
   "cell_type": "code",
   "execution_count": 62,
   "metadata": {},
   "outputs": [],
   "source": [
    "# sns.scatterplot(data=credit_card_balance.sample(100000, random_state=42),\n",
    "#                 x='CNT_INSTALMENT_MATURE_CUM',\n",
    "#                 y='AMT_CREDIT_LIMIT_ACTUAL'\n",
    "#                 )\n",
    "# plt.show()"
   ]
  },
  {
   "cell_type": "code",
   "execution_count": 63,
   "metadata": {},
   "outputs": [],
   "source": [
    "# sns.scatterplot(data=credit_card_balance.sample(100000, random_state=42),\n",
    "#                 x='CNT_INSTALMENT_MATURE_CUM',\n",
    "#                 y='AMT_BALANCE'\n",
    "#                 )\n",
    "# plt.show()"
   ]
  },
  {
   "cell_type": "code",
   "execution_count": 64,
   "metadata": {},
   "outputs": [],
   "source": [
    "# sns.scatterplot(data=credit_card_balance.sample(100000, random_state=42),\n",
    "#                 x='CNT_INSTALMENT_MATURE_CUM',\n",
    "#                 y='AMT_INST_MIN_REGULARITY'\n",
    "#                 )\n",
    "# plt.show()"
   ]
  },
  {
   "cell_type": "markdown",
   "metadata": {},
   "source": [
    "## Feature Engineering"
   ]
  },
  {
   "cell_type": "code",
   "execution_count": 65,
   "metadata": {},
   "outputs": [],
   "source": [
    "credit_card_balance['CARD_ACTIVITY'] = credit_card_balance['NAME_CONTRACT_STATUS'].apply(help_tool.categorize_card_activity)\n",
    "credit_card_balance['RISK_PROFILE'] = credit_card_balance['NAME_CONTRACT_STATUS'].apply(help_tool.categorize_risk_profile)\n",
    "\n",
    "credit_card_balance.drop(columns='NAME_CONTRACT_STATUS', inplace=True)"
   ]
  },
  {
   "cell_type": "code",
   "execution_count": 66,
   "metadata": {},
   "outputs": [],
   "source": [
    "credit_card_balance['FLAG_ZERO_AMT_BALANCE'] = np.where(credit_card_balance['AMT_BALANCE'] == 0, 1, 0)\n",
    "credit_card_balance['FLAG_ZERO_AMT_CREDIT_LIMIT_ACTUAL'] = np.where(credit_card_balance['AMT_CREDIT_LIMIT_ACTUAL'] == 0, 1, 0)"
   ]
  },
  {
   "cell_type": "code",
   "execution_count": 67,
   "metadata": {},
   "outputs": [],
   "source": [
    "credit_card_balance[[\n",
    "    'RATE_UTILIZATION_LIMIT', 'RATE_INSTALMENT_BALANCE', 'RATE_INST_MIN', 'RATIO_DPD', \n",
    "    'RATE_DRAWINGS_CURRENT', 'RATE_DRAWINGS_ATM_CURRENT', 'RATE_DRAWINGS_OTHER_CURRENT', 'RATE_DRAWINGS_POS_CURRENT',\n",
    "    'RATE_RECEIVABLE', 'RATE_RECEIVABLE_PRINCIPAL', 'RATE_PAYMENT_CURRENT', 'RATE_RECEIVABLE_VS_PAYMENT'\n",
    "                     ]] = duckdb.query(\"\"\"\n",
    "            SELECT \n",
    "            \n",
    "             (AMT_CREDIT_LIMIT_ACTUAL / AMT_BALANCE) AS RATE_UTILIZATION_LIMIT,\n",
    "\n",
    "             (CNT_INSTALMENT_MATURE_CUM / AMT_BALANCE) AS RATE_INSTALMENT_BALANCE,\n",
    "             (CNT_INSTALMENT_MATURE_CUM / AMT_INST_MIN_REGULARITY) AS RATE_INST_MIN,\n",
    "\n",
    "             (SK_DPD / SK_DPD_DEF) AS RATIO_DPD,\n",
    "\n",
    "             (AMT_DRAWINGS_CURRENT / CNT_DRAWINGS_CURRENT) AS RATE_DRAWINGS_CURRENT,\n",
    "             (AMT_DRAWINGS_ATM_CURRENT / CNT_DRAWINGS_ATM_CURRENT) AS RATE_DRAWINGS_ATM_CURRENT,\n",
    "             (AMT_DRAWINGS_OTHER_CURRENT / CNT_DRAWINGS_OTHER_CURRENT) AS RATE_DRAWINGS_OTHER_CURRENT,\n",
    "             (AMT_DRAWINGS_POS_CURRENT / CNT_DRAWINGS_POS_CURRENT) AS RATE_DRAWINGS_POS_CURRENT,\n",
    "\n",
    "             (AMT_TOTAL_RECEIVABLE / AMT_RECIVABLE) AS RATE_RECEIVABLE,\n",
    "             (AMT_RECEIVABLE_PRINCIPAL / AMT_RECIVABLE) AS RATE_RECEIVABLE_PRINCIPAL,\n",
    "\n",
    "             (AMT_PAYMENT_TOTAL_CURRENT / AMT_PAYMENT_CURRENT) AS RATE_PAYMENT_CURRENT,\n",
    "\n",
    "             (AMT_PAYMENT_CURRENT / AMT_RECIVABLE) AS RATE_RECEIVABLE_VS_PAYMENT       \n",
    "\n",
    "            FROM credit_card_balance\n",
    "\n",
    "\"\"\").to_df()"
   ]
  },
  {
   "cell_type": "markdown",
   "metadata": {},
   "source": [
    "## Previous Application and credit_card_balance"
   ]
  },
  {
   "cell_type": "code",
   "execution_count": 68,
   "metadata": {},
   "outputs": [],
   "source": [
    "credit_card_balance_simplified = credit_card_balance[['SK_ID_PREV', 'SK_ID_CURR']].drop_duplicates().reset_index(drop=True)"
   ]
  },
  {
   "cell_type": "code",
   "execution_count": 69,
   "metadata": {},
   "outputs": [
    {
     "name": "stderr",
     "output_type": "stream",
     "text": [
      "c:\\Users\\Gintare\\anaconda3\\envs\\model_env\\Lib\\site-packages\\featuretools\\computational_backends\\feature_set_calculator.py:785: FutureWarning: The provided callable <function sum at 0x0000014F98C2DEE0> is currently using SeriesGroupBy.sum. In a future version of pandas, the provided callable will be used directly. To keep current behavior pass the string \"sum\" instead.\n",
      "  ).agg(to_agg)\n",
      "c:\\Users\\Gintare\\anaconda3\\envs\\model_env\\Lib\\site-packages\\featuretools\\computational_backends\\feature_set_calculator.py:785: FutureWarning: The provided callable <function std at 0x0000014F98C2F100> is currently using SeriesGroupBy.std. In a future version of pandas, the provided callable will be used directly. To keep current behavior pass the string \"std\" instead.\n",
      "  ).agg(to_agg)\n",
      "c:\\Users\\Gintare\\anaconda3\\envs\\model_env\\Lib\\site-packages\\featuretools\\computational_backends\\feature_set_calculator.py:785: FutureWarning: The provided callable <function mean at 0x0000014F98C2EFC0> is currently using SeriesGroupBy.mean. In a future version of pandas, the provided callable will be used directly. To keep current behavior pass the string \"mean\" instead.\n",
      "  ).agg(to_agg)\n",
      "c:\\Users\\Gintare\\anaconda3\\envs\\model_env\\Lib\\site-packages\\featuretools\\computational_backends\\feature_set_calculator.py:785: FutureWarning: The provided callable <function max at 0x0000014F98C2E5C0> is currently using SeriesGroupBy.max. In a future version of pandas, the provided callable will be used directly. To keep current behavior pass the string \"max\" instead.\n",
      "  ).agg(to_agg)\n",
      "c:\\Users\\Gintare\\anaconda3\\envs\\model_env\\Lib\\site-packages\\featuretools\\computational_backends\\feature_set_calculator.py:785: FutureWarning: The provided callable <function min at 0x0000014F98C2E700> is currently using SeriesGroupBy.min. In a future version of pandas, the provided callable will be used directly. To keep current behavior pass the string \"min\" instead.\n",
      "  ).agg(to_agg)\n"
     ]
    },
    {
     "data": {
      "text/plain": [
       "(104307, 178)"
      ]
     },
     "execution_count": 69,
     "metadata": {},
     "output_type": "execute_result"
    }
   ],
   "source": [
    "es = ft.EntitySet(id='credit_card_balance_data')\n",
    "\n",
    "es = es.add_dataframe(dataframe_name='credit_card_balance_simplified',\n",
    "                      dataframe=credit_card_balance_simplified,\n",
    "                      index='SK_ID_PREV')\n",
    "\n",
    "es = es.add_dataframe(dataframe_name='credit_card_balance',\n",
    "                      dataframe=credit_card_balance.drop(columns=['MONTHS_BALANCE', 'SK_ID_CURR']),\n",
    "                      make_index=True,\n",
    "                      index='index')\n",
    "\n",
    "es = es.add_relationship(parent_dataframe_name='credit_card_balance_simplified',\n",
    "                         parent_column_name='SK_ID_PREV',\n",
    "                         child_dataframe_name='credit_card_balance',\n",
    "                         child_column_name='SK_ID_PREV')\n",
    "\n",
    "credit_card_balance_feature_matrix, feature_defs = ft.dfs(entityset=es,\n",
    "                                      target_dataframe_name='credit_card_balance_simplified',\n",
    "                                      agg_primitives=['mean', 'sum', 'count', 'std', 'max', 'min']\n",
    "                                      )\n",
    "\n",
    "\n",
    "credit_card_balance_feature_matrix = credit_card_balance_feature_matrix.reset_index()\n",
    "credit_card_balance_feature_matrix.shape"
   ]
  },
  {
   "cell_type": "code",
   "execution_count": 70,
   "metadata": {},
   "outputs": [],
   "source": [
    "credit_card_balance_feature_matrix = duckdb.query(\"\"\"  \n",
    "  SELECT A.*, B.Duration\n",
    "  FROM credit_card_balance_feature_matrix A \n",
    "  LEFT JOIN (\n",
    "    SELECT SK_ID_PREV, MAX(MONTHS_BALANCE) - MIN(MONTHS_BALANCE) AS Duration\n",
    "    FROM credit_card_balance\n",
    "    GROUP BY SK_ID_PREV\n",
    "    ) B ON A.SK_ID_PREV = B.SK_ID_PREV\n",
    "  \"\"\").to_df()"
   ]
  },
  {
   "cell_type": "code",
   "execution_count": 71,
   "metadata": {},
   "outputs": [],
   "source": [
    "credit_card_balance_feature_matrix.drop(\n",
    "    columns= help_tool.zero_variance_features(credit_card_balance_feature_matrix), \n",
    "    inplace = True\n",
    "    )"
   ]
  },
  {
   "cell_type": "code",
   "execution_count": 72,
   "metadata": {},
   "outputs": [],
   "source": [
    "credit_card_balance_feature_matrix.to_csv(r'Archive\\home-credit-default-risk\\credit_card_balance_feature_matrix.csv')"
   ]
  },
  {
   "cell_type": "markdown",
   "metadata": {},
   "source": [
    "## Selecting featureswith Light XGB\n",
    "### 1st run"
   ]
  },
  {
   "cell_type": "code",
   "execution_count": 73,
   "metadata": {},
   "outputs": [],
   "source": [
    "app_credit_card_balance_feature_matrix = duckdb.query(\"\"\"  \n",
    "    SELECT A.*, B.TARGET\n",
    "    FROM credit_card_balance_feature_matrix A\n",
    "    INNER JOIN application_train B\n",
    "    ON A.SK_ID_CURR = B.SK_ID_CURR\n",
    "  \"\"\").to_df()"
   ]
  },
  {
   "cell_type": "markdown",
   "metadata": {},
   "source": [
    "8% of target is postitive"
   ]
  },
  {
   "cell_type": "code",
   "execution_count": 74,
   "metadata": {},
   "outputs": [
    {
     "data": {
      "text/plain": [
       "TARGET\n",
       "0    0.91321\n",
       "1    0.08679\n",
       "Name: count, dtype: float64"
      ]
     },
     "execution_count": 74,
     "metadata": {},
     "output_type": "execute_result"
    }
   ],
   "source": [
    "app_credit_card_balance_feature_matrix['TARGET'].value_counts() / app_credit_card_balance_feature_matrix['TARGET'].count()"
   ]
  },
  {
   "cell_type": "code",
   "execution_count": 75,
   "metadata": {},
   "outputs": [],
   "source": [
    "y = app_credit_card_balance_feature_matrix['TARGET']\n",
    "X = app_credit_card_balance_feature_matrix.drop(columns=['TARGET', 'SK_ID_CURR'])\n",
    "\n",
    "# Split the dataset into training and testing sets\n",
    "X_train, X_test, y_train, y_test = train_test_split(X, y, test_size=0.2, random_state=42)\n",
    "\n",
    "# Set the parameters for the LightGBM model\n",
    "params = {\n",
    "    'objective': 'binary',\n",
    "    'metric': 'binary_logloss',\n",
    "    'boosting_type': 'gbdt',\n",
    "    'num_leaves': 31,\n",
    "    'learning_rate': 0.05,\n",
    "    'verbose': 0\n",
    "}\n",
    "\n",
    "# Train the model\n",
    "lgb_model = LGBMClassifier(**params, n_estimators=100)\n",
    "lgb_model.fit(X_train, y_train, eval_set=[(X_test, y_test)])\n",
    "\n",
    "# Get feature importances\n",
    "importance = lgb_model.feature_importances_\n",
    "feature_importance = pd.DataFrame({\n",
    "    'feature': X.columns,\n",
    "    'importance': importance\n",
    "})\n",
    "\n",
    "# Sort features by importance\n",
    "feature_importance = feature_importance.sort_values(by='importance', ascending=False)"
   ]
  },
  {
   "cell_type": "code",
   "execution_count": 76,
   "metadata": {},
   "outputs": [
    {
     "data": {
      "text/plain": [
       "array(['MIN(credit_card_balance.AMT_TOTAL_RECEIVABLE)',\n",
       "       'STD(credit_card_balance.AMT_TOTAL_RECEIVABLE)',\n",
       "       'MEAN(credit_card_balance.AMT_TOTAL_RECEIVABLE)',\n",
       "       'MAX(credit_card_balance.AMT_TOTAL_RECEIVABLE)', 'Duration',\n",
       "       'SUM(credit_card_balance.AMT_TOTAL_RECEIVABLE)',\n",
       "       'MEAN(credit_card_balance.AMT_RECIVABLE)',\n",
       "       'SUM(credit_card_balance.AMT_RECIVABLE)',\n",
       "       'STD(credit_card_balance.AMT_BALANCE)',\n",
       "       'STD(credit_card_balance.AMT_RECIVABLE)',\n",
       "       'MAX(credit_card_balance.AMT_RECIVABLE)',\n",
       "       'MEAN(credit_card_balance.AMT_RECEIVABLE_PRINCIPAL)',\n",
       "       'STD(credit_card_balance.AMT_RECEIVABLE_PRINCIPAL)',\n",
       "       'SUM(credit_card_balance.AMT_RECEIVABLE_PRINCIPAL)',\n",
       "       'MIN(credit_card_balance.AMT_RECEIVABLE_PRINCIPAL)',\n",
       "       'MAX(credit_card_balance.AMT_BALANCE)',\n",
       "       'MAX(credit_card_balance.AMT_PAYMENT_TOTAL_CURRENT)',\n",
       "       'STD(credit_card_balance.AMT_PAYMENT_CURRENT)',\n",
       "       'MIN(credit_card_balance.AMT_RECIVABLE)',\n",
       "       'SUM(credit_card_balance.RISK_PROFILE)',\n",
       "       'SUM(credit_card_balance.SK_DPD_DEF)',\n",
       "       'MIN(credit_card_balance.AMT_PAYMENT_CURRENT)',\n",
       "       'MIN(credit_card_balance.AMT_PAYMENT_TOTAL_CURRENT)',\n",
       "       'MAX(credit_card_balance.SK_DPD)',\n",
       "       'MAX(credit_card_balance.SK_DPD_DEF)',\n",
       "       'MEAN(credit_card_balance.AMT_PAYMENT_TOTAL_CURRENT)',\n",
       "       'SUM(credit_card_balance.CARD_ACTIVITY)',\n",
       "       'SUM(credit_card_balance.SK_DPD)',\n",
       "       'MAX(credit_card_balance.CNT_INSTALMENT_MATURE_CUM)',\n",
       "       'SUM(credit_card_balance.AMT_PAYMENT_TOTAL_CURRENT)',\n",
       "       'MEAN(credit_card_balance.CNT_DRAWINGS_POS_CURRENT)',\n",
       "       'MEAN(credit_card_balance.AMT_BALANCE)',\n",
       "       'STD(credit_card_balance.SK_DPD_DEF)',\n",
       "       'MEAN(credit_card_balance.RATE_DRAWINGS_OTHER_CURRENT)',\n",
       "       'MAX(credit_card_balance.AMT_INST_MIN_REGULARITY)',\n",
       "       'SUM(credit_card_balance.AMT_BALANCE)',\n",
       "       'SUM(credit_card_balance.CNT_INSTALMENT_MATURE_CUM)',\n",
       "       'MAX(credit_card_balance.CNT_DRAWINGS_POS_CURRENT)',\n",
       "       'STD(credit_card_balance.SK_DPD)',\n",
       "       'STD(credit_card_balance.RISK_PROFILE)',\n",
       "       'MAX(credit_card_balance.RISK_PROFILE)',\n",
       "       'STD(credit_card_balance.CNT_DRAWINGS_POS_CURRENT)',\n",
       "       'SUM(credit_card_balance.RATE_RECEIVABLE_PRINCIPAL)',\n",
       "       'SUM(credit_card_balance.RATE_DRAWINGS_OTHER_CURRENT)',\n",
       "       'SUM(credit_card_balance.RATE_RECEIVABLE_VS_PAYMENT)',\n",
       "       'SUM(credit_card_balance.RATE_RECEIVABLE)',\n",
       "       'MAX(credit_card_balance.CNT_DRAWINGS_CURRENT)',\n",
       "       'MAX(credit_card_balance.RATE_DRAWINGS_OTHER_CURRENT)',\n",
       "       'STD(credit_card_balance.AMT_DRAWINGS_POS_CURRENT)',\n",
       "       'MAX(credit_card_balance.FLAG_ZERO_AMT_CREDIT_LIMIT_ACTUAL)',\n",
       "       'SUM(credit_card_balance.CNT_DRAWINGS_POS_CURRENT)',\n",
       "       'STD(credit_card_balance.RATIO_DPD)',\n",
       "       'MEAN(credit_card_balance.RATIO_DPD)',\n",
       "       'MIN(credit_card_balance.CNT_DRAWINGS_POS_CURRENT)',\n",
       "       'MIN(credit_card_balance.CNT_DRAWINGS_CURRENT)',\n",
       "       'MAX(credit_card_balance.CARD_ACTIVITY)',\n",
       "       'STD(credit_card_balance.CNT_INSTALMENT_MATURE_CUM)',\n",
       "       'MAX(credit_card_balance.AMT_DRAWINGS_OTHER_CURRENT)',\n",
       "       'MAX(credit_card_balance.RATIO_DPD)',\n",
       "       'MAX(credit_card_balance.AMT_RECEIVABLE_PRINCIPAL)',\n",
       "       'MAX(credit_card_balance.AMT_CREDIT_LIMIT_ACTUAL)',\n",
       "       'MAX(credit_card_balance.RATE_DRAWINGS_POS_CURRENT)',\n",
       "       'MAX(credit_card_balance.AMT_PAYMENT_CURRENT)',\n",
       "       'SUM(credit_card_balance.AMT_DRAWINGS_CURRENT)',\n",
       "       'MAX(credit_card_balance.RATE_RECEIVABLE_PRINCIPAL)',\n",
       "       'MAX(credit_card_balance.RATE_DRAWINGS_CURRENT)',\n",
       "       'STD(credit_card_balance.AMT_DRAWINGS_CURRENT)',\n",
       "       'MEAN(credit_card_balance.AMT_DRAWINGS_OTHER_CURRENT)',\n",
       "       'MEAN(credit_card_balance.RISK_PROFILE)',\n",
       "       'STD(credit_card_balance.RATE_RECEIVABLE)',\n",
       "       'MAX(credit_card_balance.RATE_INSTALMENT_BALANCE)',\n",
       "       'MEAN(credit_card_balance.CNT_INSTALMENT_MATURE_CUM)',\n",
       "       'MAX(credit_card_balance.AMT_DRAWINGS_ATM_CURRENT)',\n",
       "       'STD(credit_card_balance.AMT_DRAWINGS_ATM_CURRENT)',\n",
       "       'MAX(credit_card_balance.RATE_INST_MIN)',\n",
       "       'SUM(credit_card_balance.RATE_INST_MIN)',\n",
       "       'MAX(credit_card_balance.CNT_DRAWINGS_OTHER_CURRENT)',\n",
       "       'MAX(credit_card_balance.CNT_DRAWINGS_ATM_CURRENT)'], dtype=object)"
      ]
     },
     "execution_count": 76,
     "metadata": {},
     "output_type": "execute_result"
    }
   ],
   "source": [
    "drop_list = features_to_drop(app_credit_card_balance_feature_matrix.drop(columns=['SK_ID_PREV', 'SK_ID_CURR']))\n",
    "drop_list"
   ]
  },
  {
   "cell_type": "code",
   "execution_count": 77,
   "metadata": {},
   "outputs": [],
   "source": [
    "app_credit_card_balance_feature_matrix.drop(columns=drop_list, inplace=True)"
   ]
  },
  {
   "cell_type": "markdown",
   "metadata": {},
   "source": [
    "### 2nd Run"
   ]
  },
  {
   "cell_type": "code",
   "execution_count": 78,
   "metadata": {},
   "outputs": [],
   "source": [
    "y = app_credit_card_balance_feature_matrix['TARGET']\n",
    "X = app_credit_card_balance_feature_matrix.drop(columns=['TARGET', 'SK_ID_PREV'])\n",
    "\n",
    "# Split the dataset into training and testing sets\n",
    "X_train, X_test, y_train, y_test = train_test_split(X, y, test_size=0.2, random_state=42)\n",
    "\n",
    "# Set the parameters for the LightGBM model\n",
    "params = {\n",
    "    'objective': 'binary',\n",
    "    'metric': 'binary_logloss',\n",
    "    'boosting_type': 'gbdt',\n",
    "    'num_leaves': 31,\n",
    "    'learning_rate': 0.05,\n",
    "    'verbose': 0\n",
    "}\n",
    "\n",
    "# Train the model\n",
    "lgb_model = LGBMClassifier(**params, n_estimators=100)\n",
    "lgb_model.fit(X_train, y_train, eval_set=[(X_test, y_test)])\n",
    "\n",
    "# Get feature importances\n",
    "importance = lgb_model.feature_importances_\n",
    "feature_importance = pd.DataFrame({\n",
    "    'feature': X.columns,\n",
    "    'importance': importance\n",
    "})\n",
    "\n",
    "# Sort features by importance\n",
    "feature_importance = feature_importance.sort_values(by='importance', ascending=False)"
   ]
  },
  {
   "cell_type": "markdown",
   "metadata": {},
   "source": [
    "## Exporting"
   ]
  },
  {
   "cell_type": "code",
   "execution_count": 79,
   "metadata": {},
   "outputs": [],
   "source": [
    "sorted_credit_card_balance_feature_matrix = credit_card_balance_feature_matrix[['SK_ID_PREV', 'SK_ID_CURR'] + feature_importance.head(10)['feature'].to_list()]\n",
    "sorted_credit_card_balance_feature_matrix.to_csv(r'Archive\\home-credit-default-risk\\sorted_credit_card_balance_feature_matrix.csv')"
   ]
  }
 ],
 "metadata": {
  "kernelspec": {
   "display_name": "model_env",
   "language": "python",
   "name": "python3"
  },
  "language_info": {
   "codemirror_mode": {
    "name": "ipython",
    "version": 3
   },
   "file_extension": ".py",
   "mimetype": "text/x-python",
   "name": "python",
   "nbconvert_exporter": "python",
   "pygments_lexer": "ipython3",
   "version": "3.11.9"
  }
 },
 "nbformat": 4,
 "nbformat_minor": 2
}
